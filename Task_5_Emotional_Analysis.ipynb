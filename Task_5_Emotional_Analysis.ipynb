{
  "cells": [
    {
      "cell_type": "markdown",
      "metadata": {
        "id": "view-in-github",
        "colab_type": "text"
      },
      "source": [
        "<a href=\"https://colab.research.google.com/github/Arseniy-Polyakov/applied_linguistics_course/blob/main/Task_5_Emotional_Analysis.ipynb\" target=\"_parent\"><img src=\"https://colab.research.google.com/assets/colab-badge.svg\" alt=\"Open In Colab\"/></a>"
      ]
    },
    {
      "cell_type": "markdown",
      "metadata": {
        "id": "EHOPG-Rur1XW"
      },
      "source": [
        "Данная работа будет состоять в сравнении качества двух моделей распознавания эмоций (CEDR и SEARA) на учебном датасете.\n",
        "Также будет обучен алгоритм логистической регрессии на датасете sagteam/cedr_v1 и будет проведено сравнение качества данного алгоритма с моделями CEDR и SEARA"
      ]
    },
    {
      "cell_type": "markdown",
      "source": [
        "Импортируем необходимые модули для предобработки текста, токенизатора и моделей распознавания эмоций"
      ],
      "metadata": {
        "id": "719feBvThD16"
      }
    },
    {
      "cell_type": "code",
      "execution_count": 1,
      "metadata": {
        "colab": {
          "base_uri": "https://localhost:8080/"
        },
        "id": "JGKq3CkAtirm",
        "outputId": "d9296d73-1b4c-47f8-a0e6-5c264736e311"
      },
      "outputs": [
        {
          "output_type": "stream",
          "name": "stdout",
          "text": [
            "Collecting pymorphy3\n",
            "  Downloading pymorphy3-2.0.4-py3-none-any.whl.metadata (2.4 kB)\n",
            "Collecting dawg2-python>=0.8.0 (from pymorphy3)\n",
            "  Downloading dawg2_python-0.9.0-py3-none-any.whl.metadata (7.5 kB)\n",
            "Collecting pymorphy3-dicts-ru (from pymorphy3)\n",
            "  Downloading pymorphy3_dicts_ru-2.4.417150.4580142-py2.py3-none-any.whl.metadata (2.0 kB)\n",
            "Downloading pymorphy3-2.0.4-py3-none-any.whl (54 kB)\n",
            "\u001b[2K   \u001b[90m━━━━━━━━━━━━━━━━━━━━━━━━━━━━━━━━━━━━━━━━\u001b[0m \u001b[32m54.1/54.1 kB\u001b[0m \u001b[31m1.4 MB/s\u001b[0m eta \u001b[36m0:00:00\u001b[0m\n",
            "\u001b[?25hDownloading dawg2_python-0.9.0-py3-none-any.whl (9.3 kB)\n",
            "Downloading pymorphy3_dicts_ru-2.4.417150.4580142-py2.py3-none-any.whl (8.4 MB)\n",
            "\u001b[2K   \u001b[90m━━━━━━━━━━━━━━━━━━━━━━━━━━━━━━━━━━━━━━━━\u001b[0m \u001b[32m8.4/8.4 MB\u001b[0m \u001b[31m33.0 MB/s\u001b[0m eta \u001b[36m0:00:00\u001b[0m\n",
            "\u001b[?25hInstalling collected packages: pymorphy3-dicts-ru, dawg2-python, pymorphy3\n",
            "Successfully installed dawg2-python-0.9.0 pymorphy3-2.0.4 pymorphy3-dicts-ru-2.4.417150.4580142\n"
          ]
        }
      ],
      "source": [
        "!pip install pymorphy3"
      ]
    },
    {
      "cell_type": "code",
      "execution_count": 2,
      "metadata": {
        "id": "hr7fWimzrMOV"
      },
      "outputs": [],
      "source": [
        "import re\n",
        "import os\n",
        "import nltk\n",
        "import torch\n",
        "import pymorphy3\n",
        "import pandas as pd\n",
        "import numpy as np\n",
        "import seaborn as sns\n",
        "import matplotlib.pyplot as plt\n",
        "from tqdm import tqdm\n",
        "from datasets import load_dataset\n",
        "from sklearn.preprocessing import OneHotEncoder, LabelEncoder\n",
        "from sklearn.model_selection import train_test_split\n",
        "from sklearn.linear_model import LogisticRegression\n",
        "from sklearn.metrics import classification_report, confusion_matrix\n",
        "from nltk.corpus import stopwords\n",
        "from sentence_transformers import SentenceTransformer\n",
        "from transformers import AutoTokenizer, AutoModelForSequenceClassification"
      ]
    },
    {
      "cell_type": "markdown",
      "source": [
        "Загружаем списки стоп-слов для предобработки текстов. Списки стоп-слов были вручную проверены на наличие междометий, которые могут влиять на распознавании эмоции в тексте, междометий среди списка стоп-слов не оказалось"
      ],
      "metadata": {
        "id": "vnmhgdPehQir"
      }
    },
    {
      "cell_type": "code",
      "execution_count": 3,
      "metadata": {
        "colab": {
          "base_uri": "https://localhost:8080/"
        },
        "id": "TIBiTDxPtces",
        "outputId": "ee51f963-5b06-4a32-dd23-8110b1e66faa"
      },
      "outputs": [
        {
          "output_type": "stream",
          "name": "stderr",
          "text": [
            "[nltk_data] Downloading package stopwords to /root/nltk_data...\n",
            "[nltk_data]   Unzipping corpora/stopwords.zip.\n",
            "[nltk_data] Downloading package punkt_tab to /root/nltk_data...\n",
            "[nltk_data]   Unzipping tokenizers/punkt_tab.zip.\n"
          ]
        }
      ],
      "source": [
        "nltk.download(\"stopwords\")\n",
        "nltk.download(\"punkt_tab\")\n",
        "stop_words = stopwords.words(\"russian\")"
      ]
    },
    {
      "cell_type": "markdown",
      "source": [
        "Создаем папку texts_emotions, куда помещаем размеченные по эмоциям тексты. Парсим эти файлы, определяем тексты и метки"
      ],
      "metadata": {
        "id": "lFmjm3jbhU3C"
      }
    },
    {
      "cell_type": "code",
      "execution_count": 99,
      "metadata": {
        "id": "DsP0Fbm7sP1X",
        "colab": {
          "base_uri": "https://localhost:8080/"
        },
        "collapsed": true,
        "outputId": "b5a61f05-4540-49a9-c6c3-be0c43659a05"
      },
      "outputs": [
        {
          "output_type": "execute_result",
          "data": {
            "text/plain": [
              "['DISTRESS',\n",
              " 'DISTRESS',\n",
              " 'DISTRESS',\n",
              " 'DISTRESS',\n",
              " 'DISTRESS',\n",
              " 'DISTRESS',\n",
              " 'DISTRESS',\n",
              " 'DISTRESS',\n",
              " 'DISTRESS',\n",
              " 'DISTRESS',\n",
              " 'DISTRESS',\n",
              " 'DISTRESS',\n",
              " 'DISTRESS',\n",
              " 'DISTRESS',\n",
              " 'DISTRESS',\n",
              " 'DISTRESS',\n",
              " 'DISTRESS',\n",
              " 'DISTRESS',\n",
              " 'DISTRESS',\n",
              " 'DISTRESS',\n",
              " 'DISTRESS',\n",
              " 'DISTRESS',\n",
              " 'DISTRESS',\n",
              " 'DISTRESS',\n",
              " 'DISTRESS',\n",
              " 'DISTRESS',\n",
              " 'DISTRESS',\n",
              " 'DISTRESS',\n",
              " 'DISTRESS',\n",
              " 'DISTRESS',\n",
              " 'DISTRESS',\n",
              " 'DISTRESS',\n",
              " 'DISTRESS',\n",
              " 'DISTRESS',\n",
              " 'DISTRESS',\n",
              " 'DISTRESS',\n",
              " 'DISTRESS',\n",
              " 'DISTRESS',\n",
              " 'ANGER',\n",
              " 'ANGER',\n",
              " 'ANGER',\n",
              " 'ANGER',\n",
              " 'ANGER',\n",
              " 'ANGER',\n",
              " 'ANGER',\n",
              " 'ANGER',\n",
              " 'ANGER',\n",
              " 'ANGER',\n",
              " 'ANGER',\n",
              " 'ANGER',\n",
              " 'ANGER',\n",
              " 'ANGER',\n",
              " 'ANGER',\n",
              " 'ANGER',\n",
              " 'ANGER',\n",
              " 'ANGER',\n",
              " 'ANGER',\n",
              " 'ANGER',\n",
              " 'ANGER',\n",
              " 'ANGER',\n",
              " 'ANGER',\n",
              " 'ANGER',\n",
              " 'ANGER',\n",
              " 'ANGER',\n",
              " 'ANGER',\n",
              " 'ANGER',\n",
              " 'ANGER',\n",
              " 'ANGER',\n",
              " 'ANGER',\n",
              " 'ANGER',\n",
              " 'ANGER',\n",
              " 'ANGER',\n",
              " 'ANGER',\n",
              " 'ANGER',\n",
              " 'ANGER',\n",
              " 'ANGER',\n",
              " 'STARTLE',\n",
              " 'STARTLE',\n",
              " 'STARTLE',\n",
              " 'STARTLE',\n",
              " 'STARTLE',\n",
              " 'STARTLE',\n",
              " 'STARTLE',\n",
              " 'STARTLE',\n",
              " 'STARTLE',\n",
              " 'STARTLE',\n",
              " 'STARTLE',\n",
              " 'STARTLE',\n",
              " 'STARTLE',\n",
              " 'STARTLE',\n",
              " 'STARTLE',\n",
              " 'STARTLE',\n",
              " 'STARTLE',\n",
              " 'STARTLE',\n",
              " 'STARTLE',\n",
              " 'STARTLE',\n",
              " 'STARTLE',\n",
              " 'STARTLE',\n",
              " 'STARTLE',\n",
              " 'STARTLE',\n",
              " 'STARTLE',\n",
              " 'STARTLE',\n",
              " 'STARTLE',\n",
              " 'STARTLE',\n",
              " 'STARTLE',\n",
              " 'STARTLE',\n",
              " 'STARTLE',\n",
              " 'STARTLE',\n",
              " 'STARTLE',\n",
              " 'STARTLE',\n",
              " 'STARTLE',\n",
              " 'STARTLE',\n",
              " 'STARTLE',\n",
              " 'DISGUST',\n",
              " 'DISGUST',\n",
              " 'DISGUST',\n",
              " 'DISGUST',\n",
              " 'DISGUST',\n",
              " 'DISGUST',\n",
              " 'DISGUST',\n",
              " 'DISGUST',\n",
              " 'DISGUST',\n",
              " 'DISGUST',\n",
              " 'DISGUST',\n",
              " 'DISGUST',\n",
              " 'DISGUST',\n",
              " 'DISGUST',\n",
              " 'DISGUST',\n",
              " 'DISGUST',\n",
              " 'DISGUST',\n",
              " 'DISGUST',\n",
              " 'DISGUST',\n",
              " 'DISGUST',\n",
              " 'DISGUST',\n",
              " 'DISGUST',\n",
              " 'DISGUST',\n",
              " 'DISGUST',\n",
              " 'DISGUST',\n",
              " 'DISGUST',\n",
              " 'DISGUST',\n",
              " 'DISGUST',\n",
              " 'DISGUST',\n",
              " 'DISGUST',\n",
              " 'DISGUST',\n",
              " 'DISGUST',\n",
              " 'DISGUST',\n",
              " 'DISGUST',\n",
              " 'DISGUST',\n",
              " 'DISGUST',\n",
              " 'DISGUST',\n",
              " 'FEAR',\n",
              " 'FEAR',\n",
              " 'FEAR',\n",
              " 'FEAR',\n",
              " 'FEAR',\n",
              " 'FEAR',\n",
              " 'FEAR',\n",
              " 'FEAR',\n",
              " 'FEAR',\n",
              " 'FEAR',\n",
              " 'FEAR',\n",
              " 'FEAR',\n",
              " 'FEAR',\n",
              " 'FEAR',\n",
              " 'FEAR',\n",
              " 'FEAR',\n",
              " 'FEAR',\n",
              " 'FEAR',\n",
              " 'FEAR',\n",
              " 'FEAR',\n",
              " 'FEAR',\n",
              " 'FEAR',\n",
              " 'FEAR',\n",
              " 'FEAR',\n",
              " 'FEAR',\n",
              " 'FEAR',\n",
              " 'FEAR',\n",
              " 'FEAR',\n",
              " 'FEAR',\n",
              " 'FEAR',\n",
              " 'FEAR',\n",
              " 'FEAR',\n",
              " 'FEAR',\n",
              " 'FEAR',\n",
              " 'FEAR',\n",
              " 'FEAR',\n",
              " 'FEAR',\n",
              " 'EXCITEMENT',\n",
              " 'EXCITEMENT',\n",
              " 'EXCITEMENT',\n",
              " 'EXCITEMENT',\n",
              " 'EXCITEMENT',\n",
              " 'EXCITEMENT',\n",
              " 'EXCITEMENT',\n",
              " 'EXCITEMENT',\n",
              " 'EXCITEMENT',\n",
              " 'EXCITEMENT',\n",
              " 'EXCITEMENT',\n",
              " 'EXCITEMENT',\n",
              " 'EXCITEMENT',\n",
              " 'EXCITEMENT',\n",
              " 'EXCITEMENT',\n",
              " 'EXCITEMENT',\n",
              " 'EXCITEMENT',\n",
              " 'EXCITEMENT',\n",
              " 'EXCITEMENT',\n",
              " 'EXCITEMENT',\n",
              " 'EXCITEMENT',\n",
              " 'EXCITEMENT',\n",
              " 'EXCITEMENT',\n",
              " 'EXCITEMENT',\n",
              " 'EXCITEMENT',\n",
              " 'EXCITEMENT',\n",
              " 'EXCITEMENT',\n",
              " 'EXCITEMENT',\n",
              " 'EXCITEMENT',\n",
              " 'EXCITEMENT',\n",
              " 'EXCITEMENT',\n",
              " 'EXCITEMENT',\n",
              " 'EXCITEMENT',\n",
              " 'EXCITEMENT',\n",
              " 'EXCITEMENT',\n",
              " 'EXCITEMENT',\n",
              " 'EXCITEMENT',\n",
              " 'EXCITEMENT',\n",
              " 'ENJOYMENT',\n",
              " 'ENJOYMENT',\n",
              " 'ENJOYMENT',\n",
              " 'ENJOYMENT',\n",
              " 'ENJOYMENT',\n",
              " 'ENJOYMENT',\n",
              " 'ENJOYMENT',\n",
              " 'ENJOYMENT',\n",
              " 'ENJOYMENT',\n",
              " 'ENJOYMENT',\n",
              " 'ENJOYMENT',\n",
              " 'ENJOYMENT',\n",
              " 'ENJOYMENT',\n",
              " 'ENJOYMENT',\n",
              " 'ENJOYMENT',\n",
              " 'ENJOYMENT',\n",
              " 'ENJOYMENT',\n",
              " 'ENJOYMENT',\n",
              " 'ENJOYMENT',\n",
              " 'ENJOYMENT',\n",
              " 'ENJOYMENT',\n",
              " 'ENJOYMENT',\n",
              " 'ENJOYMENT',\n",
              " 'ENJOYMENT',\n",
              " 'ENJOYMENT',\n",
              " 'ENJOYMENT',\n",
              " 'ENJOYMENT',\n",
              " 'ENJOYMENT',\n",
              " 'ENJOYMENT',\n",
              " 'ENJOYMENT',\n",
              " 'ENJOYMENT',\n",
              " 'ENJOYMENT',\n",
              " 'ENJOYMENT',\n",
              " 'ENJOYMENT',\n",
              " 'ENJOYMENT',\n",
              " 'ENJOYMENT',\n",
              " 'ENJOYMENT']"
            ]
          },
          "metadata": {},
          "execution_count": 99
        }
      ],
      "source": [
        "files = os.listdir(\"/content/texts_emotions\")\n",
        "\n",
        "data = [pd.read_excel(\"/content/texts_emotions/\" + document)[\"text\"].tolist() for document in files]\n",
        "labels_groups = [pd.read_excel(\"/content/texts_emotions/\" + files[i])[\"emotion\"] for i in range(len(data))]\n",
        "labels = [label for corpus in labels_groups for label in corpus]\n",
        "labels"
      ]
    },
    {
      "cell_type": "markdown",
      "source": [
        "Пишем функцию препроцессинга текста"
      ],
      "metadata": {
        "id": "VlOauuqfhhtE"
      }
    },
    {
      "cell_type": "code",
      "execution_count": 5,
      "metadata": {
        "id": "tB2gyk70tsSs"
      },
      "outputs": [],
      "source": [
        "def preprocessing(text: str) -> str:\n",
        "  \"\"\"\n",
        "  Функция для препроцессинга текста: удаление стоп-слов, знаков препинания и цифр;\n",
        "  приведение к нижнему регистру, лемматизация\n",
        "  \"\"\"\n",
        "  lemmatizer = pymorphy3.MorphAnalyzer()\n",
        "  text_without_punct = re.sub(r\"[^а-яё\\s\\-]\", \"\", text.lower())\n",
        "  text_cleaned = \" \".join([lemmatizer.parse(token)[0].normal_form for token in text_without_punct.split() if token not in stop_words])\n",
        "  return text_cleaned"
      ]
    },
    {
      "cell_type": "markdown",
      "source": [
        "Осуществляем препроцессинг для наших размеченных данных"
      ],
      "metadata": {
        "id": "OsBGicHShl3e"
      }
    },
    {
      "cell_type": "code",
      "execution_count": 6,
      "metadata": {
        "id": "jZIdPptgucnZ",
        "collapsed": true
      },
      "outputs": [],
      "source": [
        "texts = [text for corpus in data for text in corpus]\n",
        "texts_preprocessed = [preprocessing(text) for text in texts]"
      ]
    },
    {
      "cell_type": "markdown",
      "source": [
        "Создаем объекты для модели CEDR (токенизатор и собственно предобученную модель)"
      ],
      "metadata": {
        "id": "g7-gb2ioiCUo"
      }
    },
    {
      "cell_type": "code",
      "source": [
        "model_CEDR = AutoModelForSequenceClassification.from_pretrained(\"cointegrated/rubert-tiny2-cedr-emotion-detection\")\n",
        "tokenizer_CEDR = AutoTokenizer.from_pretrained(\"cointegrated/rubert-tiny2-cedr-emotion-detection\")"
      ],
      "metadata": {
        "id": "toM17j70hv1A"
      },
      "execution_count": null,
      "outputs": []
    },
    {
      "cell_type": "markdown",
      "source": [
        "Токенизируем наши данные"
      ],
      "metadata": {
        "id": "M_6bnbtgiKsC"
      }
    },
    {
      "cell_type": "code",
      "source": [
        "inputs_CEDR = tokenizer_CEDR(texts_preprocessed, padding=True, truncation=True, return_tensors=\"pt\", max_length=512)\n",
        "inputs_CEDR"
      ],
      "metadata": {
        "colab": {
          "base_uri": "https://localhost:8080/"
        },
        "collapsed": true,
        "id": "HZc0kclCV9-H",
        "outputId": "1eb8b474-f5d2-49c3-abc7-23b15d2ae173"
      },
      "execution_count": 8,
      "outputs": [
        {
          "output_type": "execute_result",
          "data": {
            "text/plain": [
              "{'input_ids': tensor([[    2, 41585,  2371,  ...,     0,     0,     0],\n",
              "        [    2, 32184, 24039,  ...,     0,     0,     0],\n",
              "        [    2, 42086,  9886,  ...,     0,     0,     0],\n",
              "        ...,\n",
              "        [    2, 45161, 49049,  ...,     0,     0,     0],\n",
              "        [    2, 45302,  6003,  ...,     0,     0,     0],\n",
              "        [    2, 47189,  8703,  ...,     0,     0,     0]]), 'token_type_ids': tensor([[0, 0, 0,  ..., 0, 0, 0],\n",
              "        [0, 0, 0,  ..., 0, 0, 0],\n",
              "        [0, 0, 0,  ..., 0, 0, 0],\n",
              "        ...,\n",
              "        [0, 0, 0,  ..., 0, 0, 0],\n",
              "        [0, 0, 0,  ..., 0, 0, 0],\n",
              "        [0, 0, 0,  ..., 0, 0, 0]]), 'attention_mask': tensor([[1, 1, 1,  ..., 0, 0, 0],\n",
              "        [1, 1, 1,  ..., 0, 0, 0],\n",
              "        [1, 1, 1,  ..., 0, 0, 0],\n",
              "        ...,\n",
              "        [1, 1, 1,  ..., 0, 0, 0],\n",
              "        [1, 1, 1,  ..., 0, 0, 0],\n",
              "        [1, 1, 1,  ..., 0, 0, 0]])}"
            ]
          },
          "metadata": {},
          "execution_count": 8
        }
      ]
    },
    {
      "cell_type": "markdown",
      "source": [
        "Определяем вероятности принадлежности каждого предложения в данных к тому или иному классу (эмоции)"
      ],
      "metadata": {
        "id": "YB_LeWWfiNi7"
      }
    },
    {
      "cell_type": "code",
      "source": [
        "model_CEDR.eval()\n",
        "with torch.no_grad():\n",
        "  outputs = model_CEDR(**inputs_CEDR)\n",
        "  logits = outputs.logits\n",
        "  probabilities = torch.softmax(logits, dim=-1)\n",
        "probabilities"
      ],
      "metadata": {
        "colab": {
          "base_uri": "https://localhost:8080/"
        },
        "id": "ZGTKc1JkVGHP",
        "outputId": "fbbc849f-9c0f-475e-e055-a9e601e74853"
      },
      "execution_count": 9,
      "outputs": [
        {
          "output_type": "execute_result",
          "data": {
            "text/plain": [
              "tensor([[2.5080e-04, 9.9886e-01, 2.5119e-04, 2.7301e-04, 1.3219e-04, 2.2943e-04],\n",
              "        [2.4231e-02, 5.9741e-01, 5.5387e-02, 1.3111e-02, 3.3293e-03, 3.0654e-01],\n",
              "        [4.7580e-01, 5.0795e-01, 6.7211e-03, 2.4175e-03, 3.0547e-03, 4.0540e-03],\n",
              "        ...,\n",
              "        [9.9805e-01, 1.2410e-03, 1.7662e-04, 1.0377e-04, 1.1776e-04, 3.1401e-04],\n",
              "        [9.9871e-01, 5.8922e-04, 1.0802e-04, 1.0281e-04, 1.9332e-04, 2.9753e-04],\n",
              "        [1.7287e-03, 9.9625e-01, 5.1184e-04, 3.7830e-04, 1.8166e-04, 9.4897e-04]])"
            ]
          },
          "metadata": {},
          "execution_count": 9
        }
      ]
    },
    {
      "cell_type": "markdown",
      "source": [
        "Обрабатываем полученные метки эмоций"
      ],
      "metadata": {
        "id": "jhIlxJOTdPF6"
      }
    },
    {
      "cell_type": "code",
      "source": [
        "labels_CEDR = [\"no emotions\", \"ENJOYMENT\", \"DISTRESS\", \"EXCITEMENT\", \"FEAR\", \"ANGER\"]\n",
        "labels_CEDR_dataset = [labels_CEDR[j] for i in range(len(texts_preprocessed)) for j in range(len(probabilities.tolist()[i])) if probabilities.tolist()[i][j] == max(probabilities.tolist()[i])]\n",
        "labels_CEDR_dataset"
      ],
      "metadata": {
        "collapsed": true,
        "colab": {
          "base_uri": "https://localhost:8080/"
        },
        "id": "nFxhKKBlWln8",
        "outputId": "47dae876-92de-4b44-b7f9-cdf27f848bf3"
      },
      "execution_count": 88,
      "outputs": [
        {
          "output_type": "execute_result",
          "data": {
            "text/plain": [
              "['ENJOYMENT',\n",
              " 'ENJOYMENT',\n",
              " 'ENJOYMENT',\n",
              " 'no emotions',\n",
              " 'no emotions',\n",
              " 'no emotions',\n",
              " 'no emotions',\n",
              " 'no emotions',\n",
              " 'no emotions',\n",
              " 'no emotions',\n",
              " 'no emotions',\n",
              " 'ENJOYMENT',\n",
              " 'ENJOYMENT',\n",
              " 'no emotions',\n",
              " 'no emotions',\n",
              " 'ANGER',\n",
              " 'ANGER',\n",
              " 'ANGER',\n",
              " 'no emotions',\n",
              " 'DISTRESS',\n",
              " 'DISTRESS',\n",
              " 'ANGER',\n",
              " 'ANGER',\n",
              " 'no emotions',\n",
              " 'no emotions',\n",
              " 'no emotions',\n",
              " 'no emotions',\n",
              " 'no emotions',\n",
              " 'ANGER',\n",
              " 'DISTRESS',\n",
              " 'no emotions',\n",
              " 'no emotions',\n",
              " 'no emotions',\n",
              " 'no emotions',\n",
              " 'ENJOYMENT',\n",
              " 'no emotions',\n",
              " 'no emotions',\n",
              " 'ENJOYMENT',\n",
              " 'no emotions',\n",
              " 'no emotions',\n",
              " 'no emotions',\n",
              " 'no emotions',\n",
              " 'no emotions',\n",
              " 'no emotions',\n",
              " 'no emotions',\n",
              " 'ANGER',\n",
              " 'no emotions',\n",
              " 'no emotions',\n",
              " 'no emotions',\n",
              " 'no emotions',\n",
              " 'ANGER',\n",
              " 'no emotions',\n",
              " 'no emotions',\n",
              " 'ANGER',\n",
              " 'no emotions',\n",
              " 'no emotions',\n",
              " 'no emotions',\n",
              " 'no emotions',\n",
              " 'no emotions',\n",
              " 'no emotions',\n",
              " 'no emotions',\n",
              " 'no emotions',\n",
              " 'no emotions',\n",
              " 'no emotions',\n",
              " 'ANGER',\n",
              " 'no emotions',\n",
              " 'ANGER',\n",
              " 'no emotions',\n",
              " 'no emotions',\n",
              " 'ENJOYMENT',\n",
              " 'no emotions',\n",
              " 'ANGER',\n",
              " 'no emotions',\n",
              " 'no emotions',\n",
              " 'no emotions',\n",
              " 'no emotions',\n",
              " 'no emotions',\n",
              " 'no emotions',\n",
              " 'ANGER',\n",
              " 'no emotions',\n",
              " 'no emotions',\n",
              " 'ENJOYMENT',\n",
              " 'no emotions',\n",
              " 'no emotions',\n",
              " 'no emotions',\n",
              " 'no emotions',\n",
              " 'no emotions',\n",
              " 'no emotions',\n",
              " 'no emotions',\n",
              " 'no emotions',\n",
              " 'no emotions',\n",
              " 'EXCITEMENT',\n",
              " 'no emotions',\n",
              " 'no emotions',\n",
              " 'no emotions',\n",
              " 'DISTRESS',\n",
              " 'no emotions',\n",
              " 'ANGER',\n",
              " 'DISTRESS',\n",
              " 'no emotions',\n",
              " 'no emotions',\n",
              " 'no emotions',\n",
              " 'ENJOYMENT',\n",
              " 'no emotions',\n",
              " 'no emotions',\n",
              " 'no emotions',\n",
              " 'no emotions',\n",
              " 'no emotions',\n",
              " 'no emotions',\n",
              " 'no emotions',\n",
              " 'no emotions',\n",
              " 'no emotions',\n",
              " 'no emotions',\n",
              " 'no emotions',\n",
              " 'no emotions',\n",
              " 'no emotions',\n",
              " 'no emotions',\n",
              " 'no emotions',\n",
              " 'no emotions',\n",
              " 'ANGER',\n",
              " 'no emotions',\n",
              " 'no emotions',\n",
              " 'no emotions',\n",
              " 'no emotions',\n",
              " 'no emotions',\n",
              " 'ANGER',\n",
              " 'ANGER',\n",
              " 'ENJOYMENT',\n",
              " 'ANGER',\n",
              " 'no emotions',\n",
              " 'ENJOYMENT',\n",
              " 'no emotions',\n",
              " 'EXCITEMENT',\n",
              " 'no emotions',\n",
              " 'no emotions',\n",
              " 'no emotions',\n",
              " 'no emotions',\n",
              " 'DISTRESS',\n",
              " 'no emotions',\n",
              " 'ANGER',\n",
              " 'no emotions',\n",
              " 'ANGER',\n",
              " 'no emotions',\n",
              " 'ANGER',\n",
              " 'no emotions',\n",
              " 'no emotions',\n",
              " 'no emotions',\n",
              " 'ANGER',\n",
              " 'no emotions',\n",
              " 'no emotions',\n",
              " 'no emotions',\n",
              " 'DISTRESS',\n",
              " 'no emotions',\n",
              " 'ANGER',\n",
              " 'no emotions',\n",
              " 'ANGER',\n",
              " 'no emotions',\n",
              " 'no emotions',\n",
              " 'no emotions',\n",
              " 'no emotions',\n",
              " 'no emotions',\n",
              " 'ENJOYMENT',\n",
              " 'EXCITEMENT',\n",
              " 'no emotions',\n",
              " 'no emotions',\n",
              " 'DISTRESS',\n",
              " 'no emotions',\n",
              " 'no emotions',\n",
              " 'no emotions',\n",
              " 'no emotions',\n",
              " 'no emotions',\n",
              " 'no emotions',\n",
              " 'no emotions',\n",
              " 'no emotions',\n",
              " 'no emotions',\n",
              " 'no emotions',\n",
              " 'ANGER',\n",
              " 'ANGER',\n",
              " 'ANGER',\n",
              " 'no emotions',\n",
              " 'no emotions',\n",
              " 'FEAR',\n",
              " 'ENJOYMENT',\n",
              " 'no emotions',\n",
              " 'ANGER',\n",
              " 'no emotions',\n",
              " 'no emotions',\n",
              " 'no emotions',\n",
              " 'no emotions',\n",
              " 'no emotions',\n",
              " 'no emotions',\n",
              " 'no emotions',\n",
              " 'no emotions',\n",
              " 'no emotions',\n",
              " 'no emotions',\n",
              " 'no emotions',\n",
              " 'ANGER',\n",
              " 'no emotions',\n",
              " 'no emotions',\n",
              " 'no emotions',\n",
              " 'no emotions',\n",
              " 'no emotions',\n",
              " 'no emotions',\n",
              " 'no emotions',\n",
              " 'ANGER',\n",
              " 'no emotions',\n",
              " 'no emotions',\n",
              " 'no emotions',\n",
              " 'no emotions',\n",
              " 'no emotions',\n",
              " 'no emotions',\n",
              " 'no emotions',\n",
              " 'no emotions',\n",
              " 'ENJOYMENT',\n",
              " 'no emotions',\n",
              " 'no emotions',\n",
              " 'no emotions',\n",
              " 'ENJOYMENT',\n",
              " 'no emotions',\n",
              " 'no emotions',\n",
              " 'ANGER',\n",
              " 'no emotions',\n",
              " 'no emotions',\n",
              " 'no emotions',\n",
              " 'no emotions',\n",
              " 'no emotions',\n",
              " 'DISTRESS',\n",
              " 'no emotions',\n",
              " 'no emotions',\n",
              " 'ENJOYMENT',\n",
              " 'no emotions',\n",
              " 'no emotions',\n",
              " 'no emotions',\n",
              " 'no emotions',\n",
              " 'no emotions',\n",
              " 'ENJOYMENT',\n",
              " 'DISTRESS',\n",
              " 'no emotions',\n",
              " 'ENJOYMENT',\n",
              " 'ENJOYMENT',\n",
              " 'no emotions',\n",
              " 'no emotions',\n",
              " 'ENJOYMENT',\n",
              " 'no emotions',\n",
              " 'no emotions',\n",
              " 'no emotions',\n",
              " 'DISTRESS',\n",
              " 'ENJOYMENT',\n",
              " 'no emotions',\n",
              " 'no emotions',\n",
              " 'ENJOYMENT',\n",
              " 'no emotions',\n",
              " 'no emotions',\n",
              " 'ENJOYMENT',\n",
              " 'no emotions',\n",
              " 'ENJOYMENT',\n",
              " 'no emotions',\n",
              " 'EXCITEMENT',\n",
              " 'no emotions',\n",
              " 'no emotions',\n",
              " 'no emotions',\n",
              " 'ENJOYMENT']"
            ]
          },
          "metadata": {},
          "execution_count": 88
        }
      ]
    },
    {
      "cell_type": "markdown",
      "source": [
        "Выводим метрики оценки модели CEDR на учебном датасете"
      ],
      "metadata": {
        "id": "g1QW67yRdSjL"
      }
    },
    {
      "cell_type": "code",
      "source": [
        "report_cedr = classification_report(labels_CEDR_dataset, labels)\n",
        "print(report_cedr)"
      ],
      "metadata": {
        "colab": {
          "base_uri": "https://localhost:8080/"
        },
        "id": "FjrJ_2naYwT7",
        "outputId": "83e79226-29b3-4c18-b0b5-e0792fd77e3a"
      },
      "execution_count": 97,
      "outputs": [
        {
          "output_type": "stream",
          "name": "stdout",
          "text": [
            "              precision    recall  f1-score   support\n",
            "\n",
            "       ANGER       0.16      0.19      0.17        31\n",
            "    DISTRESS       0.00      0.00      0.00        11\n",
            "   ENJOYMENT       0.27      0.38      0.32        26\n",
            "  EXCITEMENT       0.00      0.00      0.00         4\n",
            "        FEAR       0.03      1.00      0.05         1\n",
            "     SADNESS       0.00      0.00      0.00         0\n",
            " no emotions       0.79      0.47      0.58       189\n",
            "\n",
            "    accuracy                           0.40       262\n",
            "   macro avg       0.18      0.29      0.16       262\n",
            "weighted avg       0.61      0.40      0.47       262\n",
            "\n"
          ]
        },
        {
          "output_type": "stream",
          "name": "stderr",
          "text": [
            "/usr/local/lib/python3.11/dist-packages/sklearn/metrics/_classification.py:1565: UndefinedMetricWarning: Precision is ill-defined and being set to 0.0 in labels with no predicted samples. Use `zero_division` parameter to control this behavior.\n",
            "  _warn_prf(average, modifier, f\"{metric.capitalize()} is\", len(result))\n",
            "/usr/local/lib/python3.11/dist-packages/sklearn/metrics/_classification.py:1565: UndefinedMetricWarning: Recall is ill-defined and being set to 0.0 in labels with no true samples. Use `zero_division` parameter to control this behavior.\n",
            "  _warn_prf(average, modifier, f\"{metric.capitalize()} is\", len(result))\n",
            "/usr/local/lib/python3.11/dist-packages/sklearn/metrics/_classification.py:1565: UndefinedMetricWarning: Precision is ill-defined and being set to 0.0 in labels with no predicted samples. Use `zero_division` parameter to control this behavior.\n",
            "  _warn_prf(average, modifier, f\"{metric.capitalize()} is\", len(result))\n",
            "/usr/local/lib/python3.11/dist-packages/sklearn/metrics/_classification.py:1565: UndefinedMetricWarning: Recall is ill-defined and being set to 0.0 in labels with no true samples. Use `zero_division` parameter to control this behavior.\n",
            "  _warn_prf(average, modifier, f\"{metric.capitalize()} is\", len(result))\n",
            "/usr/local/lib/python3.11/dist-packages/sklearn/metrics/_classification.py:1565: UndefinedMetricWarning: Precision is ill-defined and being set to 0.0 in labels with no predicted samples. Use `zero_division` parameter to control this behavior.\n",
            "  _warn_prf(average, modifier, f\"{metric.capitalize()} is\", len(result))\n",
            "/usr/local/lib/python3.11/dist-packages/sklearn/metrics/_classification.py:1565: UndefinedMetricWarning: Recall is ill-defined and being set to 0.0 in labels with no true samples. Use `zero_division` parameter to control this behavior.\n",
            "  _warn_prf(average, modifier, f\"{metric.capitalize()} is\", len(result))\n"
          ]
        }
      ]
    },
    {
      "cell_type": "markdown",
      "source": [
        "Создаем объекты для модели SEARA (токенизатор и собственно предобученную модель)"
      ],
      "metadata": {
        "id": "KAA9CYKyicji"
      }
    },
    {
      "cell_type": "code",
      "source": [
        "model_SEARA = AutoModelForSequenceClassification.from_pretrained(\"seara/rubert-tiny2-russian-emotion-detection-cedr\")\n",
        "tokenizer_SEARA = AutoTokenizer.from_pretrained(\"seara/rubert-tiny2-russian-emotion-detection-cedr\")"
      ],
      "metadata": {
        "id": "4xuTyKyzcQ0J"
      },
      "execution_count": null,
      "outputs": []
    },
    {
      "cell_type": "markdown",
      "source": [
        "Токенизируем наши данные"
      ],
      "metadata": {
        "id": "vdJ_a6PpiiBE"
      }
    },
    {
      "cell_type": "code",
      "source": [
        "inputs_SEARA = tokenizer_SEARA(texts_preprocessed, padding=True, truncation=True, return_tensors=\"pt\", max_length=512)\n",
        "inputs_SEARA"
      ],
      "metadata": {
        "colab": {
          "base_uri": "https://localhost:8080/"
        },
        "id": "08wIS3VOcfhV",
        "outputId": "acbb345f-6a2c-4c3c-db56-896c5c81eddc"
      },
      "execution_count": 12,
      "outputs": [
        {
          "output_type": "execute_result",
          "data": {
            "text/plain": [
              "{'input_ids': tensor([[    2, 41585,  2371,  ...,     0,     0,     0],\n",
              "        [    2, 32184, 24039,  ...,     0,     0,     0],\n",
              "        [    2, 42086,  9886,  ...,     0,     0,     0],\n",
              "        ...,\n",
              "        [    2, 45161, 49049,  ...,     0,     0,     0],\n",
              "        [    2, 45302,  6003,  ...,     0,     0,     0],\n",
              "        [    2, 47189,  8703,  ...,     0,     0,     0]]), 'token_type_ids': tensor([[0, 0, 0,  ..., 0, 0, 0],\n",
              "        [0, 0, 0,  ..., 0, 0, 0],\n",
              "        [0, 0, 0,  ..., 0, 0, 0],\n",
              "        ...,\n",
              "        [0, 0, 0,  ..., 0, 0, 0],\n",
              "        [0, 0, 0,  ..., 0, 0, 0],\n",
              "        [0, 0, 0,  ..., 0, 0, 0]]), 'attention_mask': tensor([[1, 1, 1,  ..., 0, 0, 0],\n",
              "        [1, 1, 1,  ..., 0, 0, 0],\n",
              "        [1, 1, 1,  ..., 0, 0, 0],\n",
              "        ...,\n",
              "        [1, 1, 1,  ..., 0, 0, 0],\n",
              "        [1, 1, 1,  ..., 0, 0, 0],\n",
              "        [1, 1, 1,  ..., 0, 0, 0]])}"
            ]
          },
          "metadata": {},
          "execution_count": 12
        }
      ]
    },
    {
      "cell_type": "markdown",
      "source": [
        "Определяем вероятности принадлежности каждого предложения в данных к тому или иному классу (эмоции)"
      ],
      "metadata": {
        "id": "f1ixZ2dMirez"
      }
    },
    {
      "cell_type": "code",
      "source": [
        "model_SEARA.eval()\n",
        "with torch.no_grad():\n",
        "  outputs = model_SEARA(**inputs_SEARA)\n",
        "  logits = outputs.logits\n",
        "  probabilities_SEARA = torch.softmax(logits, dim=-1)\n",
        "probabilities_SEARA"
      ],
      "metadata": {
        "colab": {
          "base_uri": "https://localhost:8080/"
        },
        "id": "jRRzrHgDcvUH",
        "outputId": "06c5276b-c931-40ad-a749-09844162a28f"
      },
      "execution_count": 13,
      "outputs": [
        {
          "output_type": "execute_result",
          "data": {
            "text/plain": [
              "tensor([[2.1930e-03, 9.9324e-01, 1.2306e-03, 1.4203e-03, 5.5140e-04, 1.3636e-03],\n",
              "        [2.8862e-02, 4.7907e-01, 3.7344e-01, 1.0141e-02, 5.9177e-03, 1.0257e-01],\n",
              "        [9.9611e-01, 1.9972e-03, 3.9531e-04, 6.6001e-04, 3.2769e-04, 5.1247e-04],\n",
              "        ...,\n",
              "        [9.4754e-01, 4.5334e-02, 1.0359e-03, 2.0353e-03, 1.1267e-03, 2.9241e-03],\n",
              "        [9.9518e-01, 2.6576e-03, 2.9680e-04, 5.8069e-04, 4.8161e-04, 8.0733e-04],\n",
              "        [1.9073e-03, 9.9094e-01, 1.2733e-03, 1.6805e-03, 6.3067e-04, 3.5681e-03]])"
            ]
          },
          "metadata": {},
          "execution_count": 13
        }
      ]
    },
    {
      "cell_type": "markdown",
      "source": [
        "Выводим полученные метки эмоций"
      ],
      "metadata": {
        "id": "NCO2Y5DPddQh"
      }
    },
    {
      "cell_type": "code",
      "source": [
        "labels_SEARA = [\"no emotions\", \"ENJOYMENT\", \"DISTRESS\", \"EXCITEMENT\", \"FEAR\", \"ANGER\"]\n",
        "labels_SEARA_dataset = [labels_SEARA[j] for i in range(len(texts_preprocessed)) for j in range(len(probabilities_SEARA.tolist()[i])) if probabilities_SEARA.tolist()[i][j] == max( probabilities_SEARA.tolist()[i])]"
      ],
      "metadata": {
        "id": "JTqJlak6c4Sb"
      },
      "execution_count": null,
      "outputs": []
    },
    {
      "cell_type": "markdown",
      "source": [
        "Оцениваем качество модели SEARA на учебном датасете"
      ],
      "metadata": {
        "id": "l0lgWAsOdgAE"
      }
    },
    {
      "cell_type": "code",
      "source": [
        "report_seara = classification_report(labels_SEARA_dataset, labels)\n",
        "print(report_seara)"
      ],
      "metadata": {
        "colab": {
          "base_uri": "https://localhost:8080/"
        },
        "id": "F2JhsAGBZQGl",
        "outputId": "2cd24cf2-fecf-48f1-f059-1af5c803781e"
      },
      "execution_count": 79,
      "outputs": [
        {
          "output_type": "stream",
          "name": "stdout",
          "text": [
            "              precision    recall  f1-score   support\n",
            "\n",
            "       ANGER       0.11      0.29      0.15        14\n",
            "     DISGUST       0.00      0.00      0.00         0\n",
            "    DISTRESS       0.08      0.43      0.13         7\n",
            "   ENJOYMENT       0.27      0.32      0.29        31\n",
            "  EXCITEMENT       0.00      0.00      0.00         2\n",
            "        FEAR       0.05      0.25      0.09         8\n",
            "     STARTLE       0.00      0.00      0.00         0\n",
            " no emotions       0.00      0.00      0.00       200\n",
            "\n",
            "    accuracy                           0.07       262\n",
            "   macro avg       0.06      0.16      0.08       262\n",
            "weighted avg       0.04      0.07      0.05       262\n",
            "\n"
          ]
        },
        {
          "output_type": "stream",
          "name": "stderr",
          "text": [
            "/usr/local/lib/python3.11/dist-packages/sklearn/metrics/_classification.py:1565: UndefinedMetricWarning: Precision is ill-defined and being set to 0.0 in labels with no predicted samples. Use `zero_division` parameter to control this behavior.\n",
            "  _warn_prf(average, modifier, f\"{metric.capitalize()} is\", len(result))\n",
            "/usr/local/lib/python3.11/dist-packages/sklearn/metrics/_classification.py:1565: UndefinedMetricWarning: Recall is ill-defined and being set to 0.0 in labels with no true samples. Use `zero_division` parameter to control this behavior.\n",
            "  _warn_prf(average, modifier, f\"{metric.capitalize()} is\", len(result))\n",
            "/usr/local/lib/python3.11/dist-packages/sklearn/metrics/_classification.py:1565: UndefinedMetricWarning: Precision is ill-defined and being set to 0.0 in labels with no predicted samples. Use `zero_division` parameter to control this behavior.\n",
            "  _warn_prf(average, modifier, f\"{metric.capitalize()} is\", len(result))\n",
            "/usr/local/lib/python3.11/dist-packages/sklearn/metrics/_classification.py:1565: UndefinedMetricWarning: Recall is ill-defined and being set to 0.0 in labels with no true samples. Use `zero_division` parameter to control this behavior.\n",
            "  _warn_prf(average, modifier, f\"{metric.capitalize()} is\", len(result))\n",
            "/usr/local/lib/python3.11/dist-packages/sklearn/metrics/_classification.py:1565: UndefinedMetricWarning: Precision is ill-defined and being set to 0.0 in labels with no predicted samples. Use `zero_division` parameter to control this behavior.\n",
            "  _warn_prf(average, modifier, f\"{metric.capitalize()} is\", len(result))\n",
            "/usr/local/lib/python3.11/dist-packages/sklearn/metrics/_classification.py:1565: UndefinedMetricWarning: Recall is ill-defined and being set to 0.0 in labels with no true samples. Use `zero_division` parameter to control this behavior.\n",
            "  _warn_prf(average, modifier, f\"{metric.capitalize()} is\", len(result))\n"
          ]
        }
      ]
    },
    {
      "cell_type": "markdown",
      "source": [
        "Считаем количество правильно определенных эмоций по сравнению с размеченным датасетом"
      ],
      "metadata": {
        "id": "WsIDx968ivpr"
      }
    },
    {
      "cell_type": "code",
      "source": [
        "correct_CEDR = {texts[i]: labels[i] for i in range(len(labels)) if labels[i] == labels_CEDR_dataset[i]}\n",
        "correct_SEARA = {texts[i]: labels[i] for i in range(len(labels)) if labels[i] == labels_SEARA_dataset[i]}\n",
        "correct_SEARA[\"0\"] = None"
      ],
      "metadata": {
        "id": "5zbGn5dzc-RH"
      },
      "execution_count": 15,
      "outputs": []
    },
    {
      "cell_type": "code",
      "source": [
        "print(len(correct_CEDR))\n",
        "print(len(correct_SEARA))"
      ],
      "metadata": {
        "colab": {
          "base_uri": "https://localhost:8080/"
        },
        "id": "oraiVe5qS7o0",
        "outputId": "124442a5-64ea-412f-8a65-2447b2d7defd"
      },
      "execution_count": 16,
      "outputs": [
        {
          "output_type": "stream",
          "name": "stdout",
          "text": [
            "20\n",
            "20\n"
          ]
        }
      ]
    },
    {
      "cell_type": "markdown",
      "source": [
        "Выведем правильно определенные тексты с меткой эмоции в таблице"
      ],
      "metadata": {
        "id": "PUZf5Btei9Dx"
      }
    },
    {
      "cell_type": "code",
      "source": [
        "df_labels = pd.DataFrame(correct_CEDR.keys(), index=[i for i in range(len(correct_CEDR))], columns=[\"Texts CEDR\"])\n",
        "df_labels[\"Labels CEDR\"] = correct_CEDR.values()\n",
        "df_labels[\"Texts SEARA\"] = correct_SEARA.keys()\n",
        "df_labels[\"Labels SEARA\"] = correct_SEARA.values()\n",
        "df_labels"
      ],
      "metadata": {
        "colab": {
          "base_uri": "https://localhost:8080/",
          "height": 1000
        },
        "id": "ar4ClHDEfZIq",
        "outputId": "6a403fc1-27d3-443d-9763-d3b7b72178bb"
      },
      "execution_count": 17,
      "outputs": [
        {
          "output_type": "execute_result",
          "data": {
            "text/plain": [
              "                                           Texts CEDR Labels CEDR  \\\n",
              "0   У меня никогда не было своей комнаты. Жили пол...    DISTRESS   \n",
              "1   Живу на Кипре. Работаю на приличной должности....    DISTRESS   \n",
              "2   Говорят, что одиночество затягивает. Я не вери...    DISTRESS   \n",
              "3   Жена очень много читает, и это начинает дико р...       ANGER   \n",
              "4   Бесит мой начальник! Он постоянно ест, смотрит...       ANGER   \n",
              "5   Я учусь в школе-интернате, которая в первой де...       ANGER   \n",
              "6   Вот прям достало уже! Муж зарабатывает больше,...       ANGER   \n",
              "7   Меня всегда бесила одна вещь — почему я должна...       ANGER   \n",
              "8   Как меня бесят эти совковые бабки-гардеробщицы...       ANGER   \n",
              "9   Перенервничал. Прихватило сердце, желудок, тря...        FEAR   \n",
              "10  Приехали в гости к родителям мужа. А там у отц...   ENJOYMENT   \n",
              "11  Я впервые плакала от счастья. Домой без предуп...   ENJOYMENT   \n",
              "12  Есть у меня одна подруга. Еще со школы так пов...   ENJOYMENT   \n",
              "13  Было у меня нелёгкое детство. 90-е годы, зарпл...   ENJOYMENT   \n",
              "14  Хочу поведать вам о своем счастье. Мне скоро 3...   ENJOYMENT   \n",
              "15  5 лет назад мне до безумности хотелось усынови...   ENJOYMENT   \n",
              "16  Я не люблю людей. Не верю им, не общаюсь, почт...   ENJOYMENT   \n",
              "17  Живём два года с мужем. Добивался меня до этог...   ENJOYMENT   \n",
              "18  Я тут знаете, что понял. По большому счёту все...   ENJOYMENT   \n",
              "19  Еду с работы в метро. Устал, есть хочу, с деву...   ENJOYMENT   \n",
              "\n",
              "                                          Texts SEARA Labels SEARA  \n",
              "0   У меня никогда не было своей комнаты. Жили пол...     DISTRESS  \n",
              "1   Живу на Кипре. Работаю на приличной должности....     DISTRESS  \n",
              "2   Отношения с родителями замечательные, и все же...     DISTRESS  \n",
              "3   Жена очень много читает, и это начинает дико р...        ANGER  \n",
              "4   Бесит мой начальник! Он постоянно ест, смотрит...        ANGER  \n",
              "5   Меня всегда бесила одна вещь — почему я должна...        ANGER  \n",
              "6   Как меня бесят эти совковые бабки-гардеробщицы...        ANGER  \n",
              "7   Бросил парень, родители в другом городе. У мен...         FEAR  \n",
              "8   Перенервничал. Прихватило сердце, желудок, тря...         FEAR  \n",
              "9   Приехали в гости к родителям мужа. А там у отц...    ENJOYMENT  \n",
              "10  Работаю волонтером в соц. Службе.  На попечени...    ENJOYMENT  \n",
              "11  Я впервые плакала от счастья. Домой без предуп...    ENJOYMENT  \n",
              "12  Я девушка. И я боевая девушка. Серьезно. У мен...    ENJOYMENT  \n",
              "13  Хочу поведать вам о своем счастье. Мне скоро 3...    ENJOYMENT  \n",
              "14  5 лет назад мне до безумности хотелось усынови...    ENJOYMENT  \n",
              "15  Я не люблю людей. Не верю им, не общаюсь, почт...    ENJOYMENT  \n",
              "16  Живём два года с мужем. Добивался меня до этог...    ENJOYMENT  \n",
              "17  Я тут знаете, что понял. По большому счёту все...    ENJOYMENT  \n",
              "18  Еду с работы в метро. Устал, есть хочу, с деву...    ENJOYMENT  \n",
              "19                                                  0         None  "
            ],
            "text/html": [
              "\n",
              "  <div id=\"df-e83a9103-f53c-402e-856c-8883350553ef\" class=\"colab-df-container\">\n",
              "    <div>\n",
              "<style scoped>\n",
              "    .dataframe tbody tr th:only-of-type {\n",
              "        vertical-align: middle;\n",
              "    }\n",
              "\n",
              "    .dataframe tbody tr th {\n",
              "        vertical-align: top;\n",
              "    }\n",
              "\n",
              "    .dataframe thead th {\n",
              "        text-align: right;\n",
              "    }\n",
              "</style>\n",
              "<table border=\"1\" class=\"dataframe\">\n",
              "  <thead>\n",
              "    <tr style=\"text-align: right;\">\n",
              "      <th></th>\n",
              "      <th>Texts CEDR</th>\n",
              "      <th>Labels CEDR</th>\n",
              "      <th>Texts SEARA</th>\n",
              "      <th>Labels SEARA</th>\n",
              "    </tr>\n",
              "  </thead>\n",
              "  <tbody>\n",
              "    <tr>\n",
              "      <th>0</th>\n",
              "      <td>У меня никогда не было своей комнаты. Жили пол...</td>\n",
              "      <td>DISTRESS</td>\n",
              "      <td>У меня никогда не было своей комнаты. Жили пол...</td>\n",
              "      <td>DISTRESS</td>\n",
              "    </tr>\n",
              "    <tr>\n",
              "      <th>1</th>\n",
              "      <td>Живу на Кипре. Работаю на приличной должности....</td>\n",
              "      <td>DISTRESS</td>\n",
              "      <td>Живу на Кипре. Работаю на приличной должности....</td>\n",
              "      <td>DISTRESS</td>\n",
              "    </tr>\n",
              "    <tr>\n",
              "      <th>2</th>\n",
              "      <td>Говорят, что одиночество затягивает. Я не вери...</td>\n",
              "      <td>DISTRESS</td>\n",
              "      <td>Отношения с родителями замечательные, и все же...</td>\n",
              "      <td>DISTRESS</td>\n",
              "    </tr>\n",
              "    <tr>\n",
              "      <th>3</th>\n",
              "      <td>Жена очень много читает, и это начинает дико р...</td>\n",
              "      <td>ANGER</td>\n",
              "      <td>Жена очень много читает, и это начинает дико р...</td>\n",
              "      <td>ANGER</td>\n",
              "    </tr>\n",
              "    <tr>\n",
              "      <th>4</th>\n",
              "      <td>Бесит мой начальник! Он постоянно ест, смотрит...</td>\n",
              "      <td>ANGER</td>\n",
              "      <td>Бесит мой начальник! Он постоянно ест, смотрит...</td>\n",
              "      <td>ANGER</td>\n",
              "    </tr>\n",
              "    <tr>\n",
              "      <th>5</th>\n",
              "      <td>Я учусь в школе-интернате, которая в первой де...</td>\n",
              "      <td>ANGER</td>\n",
              "      <td>Меня всегда бесила одна вещь — почему я должна...</td>\n",
              "      <td>ANGER</td>\n",
              "    </tr>\n",
              "    <tr>\n",
              "      <th>6</th>\n",
              "      <td>Вот прям достало уже! Муж зарабатывает больше,...</td>\n",
              "      <td>ANGER</td>\n",
              "      <td>Как меня бесят эти совковые бабки-гардеробщицы...</td>\n",
              "      <td>ANGER</td>\n",
              "    </tr>\n",
              "    <tr>\n",
              "      <th>7</th>\n",
              "      <td>Меня всегда бесила одна вещь — почему я должна...</td>\n",
              "      <td>ANGER</td>\n",
              "      <td>Бросил парень, родители в другом городе. У мен...</td>\n",
              "      <td>FEAR</td>\n",
              "    </tr>\n",
              "    <tr>\n",
              "      <th>8</th>\n",
              "      <td>Как меня бесят эти совковые бабки-гардеробщицы...</td>\n",
              "      <td>ANGER</td>\n",
              "      <td>Перенервничал. Прихватило сердце, желудок, тря...</td>\n",
              "      <td>FEAR</td>\n",
              "    </tr>\n",
              "    <tr>\n",
              "      <th>9</th>\n",
              "      <td>Перенервничал. Прихватило сердце, желудок, тря...</td>\n",
              "      <td>FEAR</td>\n",
              "      <td>Приехали в гости к родителям мужа. А там у отц...</td>\n",
              "      <td>ENJOYMENT</td>\n",
              "    </tr>\n",
              "    <tr>\n",
              "      <th>10</th>\n",
              "      <td>Приехали в гости к родителям мужа. А там у отц...</td>\n",
              "      <td>ENJOYMENT</td>\n",
              "      <td>Работаю волонтером в соц. Службе.  На попечени...</td>\n",
              "      <td>ENJOYMENT</td>\n",
              "    </tr>\n",
              "    <tr>\n",
              "      <th>11</th>\n",
              "      <td>Я впервые плакала от счастья. Домой без предуп...</td>\n",
              "      <td>ENJOYMENT</td>\n",
              "      <td>Я впервые плакала от счастья. Домой без предуп...</td>\n",
              "      <td>ENJOYMENT</td>\n",
              "    </tr>\n",
              "    <tr>\n",
              "      <th>12</th>\n",
              "      <td>Есть у меня одна подруга. Еще со школы так пов...</td>\n",
              "      <td>ENJOYMENT</td>\n",
              "      <td>Я девушка. И я боевая девушка. Серьезно. У мен...</td>\n",
              "      <td>ENJOYMENT</td>\n",
              "    </tr>\n",
              "    <tr>\n",
              "      <th>13</th>\n",
              "      <td>Было у меня нелёгкое детство. 90-е годы, зарпл...</td>\n",
              "      <td>ENJOYMENT</td>\n",
              "      <td>Хочу поведать вам о своем счастье. Мне скоро 3...</td>\n",
              "      <td>ENJOYMENT</td>\n",
              "    </tr>\n",
              "    <tr>\n",
              "      <th>14</th>\n",
              "      <td>Хочу поведать вам о своем счастье. Мне скоро 3...</td>\n",
              "      <td>ENJOYMENT</td>\n",
              "      <td>5 лет назад мне до безумности хотелось усынови...</td>\n",
              "      <td>ENJOYMENT</td>\n",
              "    </tr>\n",
              "    <tr>\n",
              "      <th>15</th>\n",
              "      <td>5 лет назад мне до безумности хотелось усынови...</td>\n",
              "      <td>ENJOYMENT</td>\n",
              "      <td>Я не люблю людей. Не верю им, не общаюсь, почт...</td>\n",
              "      <td>ENJOYMENT</td>\n",
              "    </tr>\n",
              "    <tr>\n",
              "      <th>16</th>\n",
              "      <td>Я не люблю людей. Не верю им, не общаюсь, почт...</td>\n",
              "      <td>ENJOYMENT</td>\n",
              "      <td>Живём два года с мужем. Добивался меня до этог...</td>\n",
              "      <td>ENJOYMENT</td>\n",
              "    </tr>\n",
              "    <tr>\n",
              "      <th>17</th>\n",
              "      <td>Живём два года с мужем. Добивался меня до этог...</td>\n",
              "      <td>ENJOYMENT</td>\n",
              "      <td>Я тут знаете, что понял. По большому счёту все...</td>\n",
              "      <td>ENJOYMENT</td>\n",
              "    </tr>\n",
              "    <tr>\n",
              "      <th>18</th>\n",
              "      <td>Я тут знаете, что понял. По большому счёту все...</td>\n",
              "      <td>ENJOYMENT</td>\n",
              "      <td>Еду с работы в метро. Устал, есть хочу, с деву...</td>\n",
              "      <td>ENJOYMENT</td>\n",
              "    </tr>\n",
              "    <tr>\n",
              "      <th>19</th>\n",
              "      <td>Еду с работы в метро. Устал, есть хочу, с деву...</td>\n",
              "      <td>ENJOYMENT</td>\n",
              "      <td>0</td>\n",
              "      <td>None</td>\n",
              "    </tr>\n",
              "  </tbody>\n",
              "</table>\n",
              "</div>\n",
              "    <div class=\"colab-df-buttons\">\n",
              "\n",
              "  <div class=\"colab-df-container\">\n",
              "    <button class=\"colab-df-convert\" onclick=\"convertToInteractive('df-e83a9103-f53c-402e-856c-8883350553ef')\"\n",
              "            title=\"Convert this dataframe to an interactive table.\"\n",
              "            style=\"display:none;\">\n",
              "\n",
              "  <svg xmlns=\"http://www.w3.org/2000/svg\" height=\"24px\" viewBox=\"0 -960 960 960\">\n",
              "    <path d=\"M120-120v-720h720v720H120Zm60-500h600v-160H180v160Zm220 220h160v-160H400v160Zm0 220h160v-160H400v160ZM180-400h160v-160H180v160Zm440 0h160v-160H620v160ZM180-180h160v-160H180v160Zm440 0h160v-160H620v160Z\"/>\n",
              "  </svg>\n",
              "    </button>\n",
              "\n",
              "  <style>\n",
              "    .colab-df-container {\n",
              "      display:flex;\n",
              "      gap: 12px;\n",
              "    }\n",
              "\n",
              "    .colab-df-convert {\n",
              "      background-color: #E8F0FE;\n",
              "      border: none;\n",
              "      border-radius: 50%;\n",
              "      cursor: pointer;\n",
              "      display: none;\n",
              "      fill: #1967D2;\n",
              "      height: 32px;\n",
              "      padding: 0 0 0 0;\n",
              "      width: 32px;\n",
              "    }\n",
              "\n",
              "    .colab-df-convert:hover {\n",
              "      background-color: #E2EBFA;\n",
              "      box-shadow: 0px 1px 2px rgba(60, 64, 67, 0.3), 0px 1px 3px 1px rgba(60, 64, 67, 0.15);\n",
              "      fill: #174EA6;\n",
              "    }\n",
              "\n",
              "    .colab-df-buttons div {\n",
              "      margin-bottom: 4px;\n",
              "    }\n",
              "\n",
              "    [theme=dark] .colab-df-convert {\n",
              "      background-color: #3B4455;\n",
              "      fill: #D2E3FC;\n",
              "    }\n",
              "\n",
              "    [theme=dark] .colab-df-convert:hover {\n",
              "      background-color: #434B5C;\n",
              "      box-shadow: 0px 1px 3px 1px rgba(0, 0, 0, 0.15);\n",
              "      filter: drop-shadow(0px 1px 2px rgba(0, 0, 0, 0.3));\n",
              "      fill: #FFFFFF;\n",
              "    }\n",
              "  </style>\n",
              "\n",
              "    <script>\n",
              "      const buttonEl =\n",
              "        document.querySelector('#df-e83a9103-f53c-402e-856c-8883350553ef button.colab-df-convert');\n",
              "      buttonEl.style.display =\n",
              "        google.colab.kernel.accessAllowed ? 'block' : 'none';\n",
              "\n",
              "      async function convertToInteractive(key) {\n",
              "        const element = document.querySelector('#df-e83a9103-f53c-402e-856c-8883350553ef');\n",
              "        const dataTable =\n",
              "          await google.colab.kernel.invokeFunction('convertToInteractive',\n",
              "                                                    [key], {});\n",
              "        if (!dataTable) return;\n",
              "\n",
              "        const docLinkHtml = 'Like what you see? Visit the ' +\n",
              "          '<a target=\"_blank\" href=https://colab.research.google.com/notebooks/data_table.ipynb>data table notebook</a>'\n",
              "          + ' to learn more about interactive tables.';\n",
              "        element.innerHTML = '';\n",
              "        dataTable['output_type'] = 'display_data';\n",
              "        await google.colab.output.renderOutput(dataTable, element);\n",
              "        const docLink = document.createElement('div');\n",
              "        docLink.innerHTML = docLinkHtml;\n",
              "        element.appendChild(docLink);\n",
              "      }\n",
              "    </script>\n",
              "  </div>\n",
              "\n",
              "\n",
              "    <div id=\"df-7a77f4ab-fe35-416b-a614-426cd44f868b\">\n",
              "      <button class=\"colab-df-quickchart\" onclick=\"quickchart('df-7a77f4ab-fe35-416b-a614-426cd44f868b')\"\n",
              "                title=\"Suggest charts\"\n",
              "                style=\"display:none;\">\n",
              "\n",
              "<svg xmlns=\"http://www.w3.org/2000/svg\" height=\"24px\"viewBox=\"0 0 24 24\"\n",
              "     width=\"24px\">\n",
              "    <g>\n",
              "        <path d=\"M19 3H5c-1.1 0-2 .9-2 2v14c0 1.1.9 2 2 2h14c1.1 0 2-.9 2-2V5c0-1.1-.9-2-2-2zM9 17H7v-7h2v7zm4 0h-2V7h2v10zm4 0h-2v-4h2v4z\"/>\n",
              "    </g>\n",
              "</svg>\n",
              "      </button>\n",
              "\n",
              "<style>\n",
              "  .colab-df-quickchart {\n",
              "      --bg-color: #E8F0FE;\n",
              "      --fill-color: #1967D2;\n",
              "      --hover-bg-color: #E2EBFA;\n",
              "      --hover-fill-color: #174EA6;\n",
              "      --disabled-fill-color: #AAA;\n",
              "      --disabled-bg-color: #DDD;\n",
              "  }\n",
              "\n",
              "  [theme=dark] .colab-df-quickchart {\n",
              "      --bg-color: #3B4455;\n",
              "      --fill-color: #D2E3FC;\n",
              "      --hover-bg-color: #434B5C;\n",
              "      --hover-fill-color: #FFFFFF;\n",
              "      --disabled-bg-color: #3B4455;\n",
              "      --disabled-fill-color: #666;\n",
              "  }\n",
              "\n",
              "  .colab-df-quickchart {\n",
              "    background-color: var(--bg-color);\n",
              "    border: none;\n",
              "    border-radius: 50%;\n",
              "    cursor: pointer;\n",
              "    display: none;\n",
              "    fill: var(--fill-color);\n",
              "    height: 32px;\n",
              "    padding: 0;\n",
              "    width: 32px;\n",
              "  }\n",
              "\n",
              "  .colab-df-quickchart:hover {\n",
              "    background-color: var(--hover-bg-color);\n",
              "    box-shadow: 0 1px 2px rgba(60, 64, 67, 0.3), 0 1px 3px 1px rgba(60, 64, 67, 0.15);\n",
              "    fill: var(--button-hover-fill-color);\n",
              "  }\n",
              "\n",
              "  .colab-df-quickchart-complete:disabled,\n",
              "  .colab-df-quickchart-complete:disabled:hover {\n",
              "    background-color: var(--disabled-bg-color);\n",
              "    fill: var(--disabled-fill-color);\n",
              "    box-shadow: none;\n",
              "  }\n",
              "\n",
              "  .colab-df-spinner {\n",
              "    border: 2px solid var(--fill-color);\n",
              "    border-color: transparent;\n",
              "    border-bottom-color: var(--fill-color);\n",
              "    animation:\n",
              "      spin 1s steps(1) infinite;\n",
              "  }\n",
              "\n",
              "  @keyframes spin {\n",
              "    0% {\n",
              "      border-color: transparent;\n",
              "      border-bottom-color: var(--fill-color);\n",
              "      border-left-color: var(--fill-color);\n",
              "    }\n",
              "    20% {\n",
              "      border-color: transparent;\n",
              "      border-left-color: var(--fill-color);\n",
              "      border-top-color: var(--fill-color);\n",
              "    }\n",
              "    30% {\n",
              "      border-color: transparent;\n",
              "      border-left-color: var(--fill-color);\n",
              "      border-top-color: var(--fill-color);\n",
              "      border-right-color: var(--fill-color);\n",
              "    }\n",
              "    40% {\n",
              "      border-color: transparent;\n",
              "      border-right-color: var(--fill-color);\n",
              "      border-top-color: var(--fill-color);\n",
              "    }\n",
              "    60% {\n",
              "      border-color: transparent;\n",
              "      border-right-color: var(--fill-color);\n",
              "    }\n",
              "    80% {\n",
              "      border-color: transparent;\n",
              "      border-right-color: var(--fill-color);\n",
              "      border-bottom-color: var(--fill-color);\n",
              "    }\n",
              "    90% {\n",
              "      border-color: transparent;\n",
              "      border-bottom-color: var(--fill-color);\n",
              "    }\n",
              "  }\n",
              "</style>\n",
              "\n",
              "      <script>\n",
              "        async function quickchart(key) {\n",
              "          const quickchartButtonEl =\n",
              "            document.querySelector('#' + key + ' button');\n",
              "          quickchartButtonEl.disabled = true;  // To prevent multiple clicks.\n",
              "          quickchartButtonEl.classList.add('colab-df-spinner');\n",
              "          try {\n",
              "            const charts = await google.colab.kernel.invokeFunction(\n",
              "                'suggestCharts', [key], {});\n",
              "          } catch (error) {\n",
              "            console.error('Error during call to suggestCharts:', error);\n",
              "          }\n",
              "          quickchartButtonEl.classList.remove('colab-df-spinner');\n",
              "          quickchartButtonEl.classList.add('colab-df-quickchart-complete');\n",
              "        }\n",
              "        (() => {\n",
              "          let quickchartButtonEl =\n",
              "            document.querySelector('#df-7a77f4ab-fe35-416b-a614-426cd44f868b button');\n",
              "          quickchartButtonEl.style.display =\n",
              "            google.colab.kernel.accessAllowed ? 'block' : 'none';\n",
              "        })();\n",
              "      </script>\n",
              "    </div>\n",
              "    </div>\n",
              "  </div>\n"
            ],
            "application/vnd.google.colaboratory.intrinsic+json": {
              "type": "dataframe",
              "variable_name": "df_labels",
              "summary": "{\n  \"name\": \"df_labels\",\n  \"rows\": 20,\n  \"fields\": [\n    {\n      \"column\": \"Texts CEDR\",\n      \"properties\": {\n        \"dtype\": \"string\",\n        \"num_unique_values\": 20,\n        \"samples\": [\n          \"\\u0423 \\u043c\\u0435\\u043d\\u044f \\u043d\\u0438\\u043a\\u043e\\u0433\\u0434\\u0430 \\u043d\\u0435 \\u0431\\u044b\\u043b\\u043e \\u0441\\u0432\\u043e\\u0435\\u0439 \\u043a\\u043e\\u043c\\u043d\\u0430\\u0442\\u044b. \\u0416\\u0438\\u043b\\u0438 \\u043f\\u043e\\u043b\\u043d\\u043e\\u0439 \\u0441\\u0435\\u043c\\u044c\\u0451\\u0439 \\u0432 \\u0442\\u0440\\u0451\\u0445\\u043a\\u043e\\u043c\\u043d\\u0430\\u0442\\u043d\\u043e\\u0439 \\u043a\\u0432\\u0430\\u0440\\u0442\\u0438\\u0440\\u0435, \\u0438 \\u044f \\u0441\\u043d\\u0430\\u0447\\u0430\\u043b\\u0430 \\u0441\\u043f\\u0430\\u043b\\u0430 \\u0441 \\u0440\\u043e\\u0434\\u0438\\u0442\\u0435\\u043b\\u044f\\u043c\\u0438, \\u0430 \\u043f\\u043e\\u0442\\u043e\\u043c \\u2014 \\u0441 \\u0431\\u0430\\u0431\\u0443\\u0448\\u043a\\u043e\\u0439. \\u042f \\u043b\\u044e\\u0431\\u0438\\u043b\\u0430 \\u0435\\u0451, \\u043d\\u043e \\u0432\\u0441\\u0451 \\u0440\\u0430\\u0432\\u043d\\u043e \\u0432\\u0441\\u0451 \\u0432\\u0440\\u0435\\u043c\\u044f \\u043c\\u0435\\u0447\\u0442\\u0430\\u043b\\u0430 \\u043e \\u0441\\u0432\\u043e\\u0435\\u0439 \\u043a\\u043e\\u043c\\u043d\\u0430\\u0442\\u0435, \\u0433\\u0434\\u0435 \\u043d\\u0438\\u043a\\u0442\\u043e \\u043d\\u0435 \\u0432\\u0441\\u0442\\u0430\\u043d\\u0435\\u0442 \\u0432 \\u0441\\u0435\\u043c\\u044c \\u0443\\u0442\\u0440\\u0430 \\u043f\\u0438\\u0442\\u044c \\u0442\\u0430\\u0431\\u043b\\u0435\\u0442\\u043a\\u0438, \\u0434\\u0435\\u043b\\u0430\\u0442\\u044c \\u0443\\u043a\\u043e\\u043b\\u044b \\u0438\\u043b\\u0438 \\u043f\\u0440\\u043e\\u0441\\u0442\\u043e \\u043d\\u0435 \\u0431\\u0443\\u0434\\u0435\\u0442 \\u0433\\u0440\\u043e\\u043c\\u043a\\u043e \\u0432\\u043e\\u0440\\u043e\\u0447\\u0430\\u0442\\u044c\\u0441\\u044f \\u043d\\u0430 \\u0441\\u043e\\u0441\\u0435\\u0434\\u043d\\u0435\\u0439 \\u043f\\u043e\\u0441\\u0442\\u0435\\u043b\\u0438. \\u0410 \\u044d\\u0442\\u0438\\u043c \\u043b\\u0435\\u0442\\u043e\\u043c \\u0431\\u0430\\u0431\\u0443\\u0448\\u043a\\u0430 \\u0443\\u043c\\u0435\\u0440\\u043b\\u0430. \\u041e\\u0442\\u043e\\u0440\\u0432\\u0430\\u043b\\u0441\\u044f \\u0442\\u0440\\u043e\\u043c\\u0431. \\u042f \\u0440\\u044b\\u0434\\u0430\\u043b\\u0430 \\u0438 \\u0440\\u044b\\u0434\\u0430\\u043b\\u0430. \\u0418 \\u043a\\u0430\\u043a \\u0431\\u044b \\u043c\\u043d\\u043e\\u0433\\u043e \\u0441\\u0435\\u0439\\u0447\\u0430\\u0441 \\u043e\\u0442\\u0434\\u0430\\u043b\\u0430, \\u0447\\u0442\\u043e\\u0431\\u044b \\u043f\\u0440\\u043e\\u0441\\u0442\\u043e \\u043e\\u0431\\u043d\\u044f\\u0442\\u044c \\u0435\\u0451. \\u0417\\u0430\\u0442\\u043e \\u0442\\u0435\\u043f\\u0435\\u0440\\u044c \\u0435\\u0441\\u0442\\u044c \\u0441\\u0432\\u043e\\u044f \\u043a\\u043e\\u043c\\u043d\\u0430\\u0442\\u0430... \\u0422\\u0430\\u043a\\u0430\\u044f \\u0431\\u043e\\u043b\\u044c\\u0448\\u0430\\u044f \\u0434\\u043b\\u044f \\u043e\\u0434\\u043d\\u043e\\u0433\\u043e \\u0447\\u0435\\u043b\\u043e\\u0432\\u0435\\u043a\\u0430.\",\n          \"\\u0416\\u0438\\u0432\\u0451\\u043c \\u0434\\u0432\\u0430 \\u0433\\u043e\\u0434\\u0430 \\u0441 \\u043c\\u0443\\u0436\\u0435\\u043c. \\u0414\\u043e\\u0431\\u0438\\u0432\\u0430\\u043b\\u0441\\u044f \\u043c\\u0435\\u043d\\u044f \\u0434\\u043e \\u044d\\u0442\\u043e\\u0433\\u043e 20 \\u043b\\u0435\\u0442. \\u0411\\u0435\\u0437\\u0443\\u043c\\u043d\\u043e \\u043b\\u044e\\u0431\\u0438\\u043c \\u0434\\u0440\\u0443\\u0433 \\u0434\\u0440\\u0443\\u0433\\u0430. \\u041d\\u043e \\u0432\\u0440\\u0435\\u043c\\u0435\\u043d\\u0438 \\u043e\\u0431\\u0449\\u0430\\u0442\\u044c\\u0441\\u044f \\u043f\\u043e\\u0447\\u0442\\u0438 \\u043d\\u0435\\u0442( \\u041e\\u0431\\u0430 \\u043c\\u043d\\u043e\\u0433\\u043e \\u0440\\u0430\\u0431\\u043e\\u0442\\u0430\\u0435\\u043c. \\u041d\\u043e \\u0443 \\u043c\\u0435\\u043d\\u044f \\u0445\\u043e\\u0442\\u044f \\u0431\\u044b \\u043f\\u044f\\u0442\\u0438\\u0434\\u043d\\u0435\\u0432\\u043a\\u0430. \\u0410 \\u043e\\u043d \\u0432\\u0430\\u0445\\u0442\\u043e\\u0439, \\u0434\\u0430 \\u0435\\u0449\\u0451 \\u0441\\u0440\\u0430\\u0437\\u0443 \\u043f\\u043e \\u0434\\u0432\\u0435. \\u0414\\u043e\\u043c\\u043e\\u0439 \\u043f\\u0440\\u0438\\u0445\\u043e\\u0434\\u0438\\u0442 \\u0432 10 \\u0432\\u0435\\u0447\\u0435\\u0440\\u0430, \\u0443\\u0435\\u0437\\u0436\\u0430\\u0435\\u0442 \\u0443\\u0442\\u0440\\u043e\\u043c \\u0432 5:30. \\u041e\\u0441\\u0442\\u0430\\u0432\\u0448\\u0438\\u0439\\u0441\\u044f \\u043c\\u0435\\u0441\\u044f\\u0446 \\u0443 \\u043d\\u0435\\u0433\\u043e \\u0443\\u0445\\u043e\\u0434\\u0438\\u0442 \\u043d\\u0430 \\u043f\\u043e\\u0435\\u0437\\u0434\\u043a\\u0438 \\u043a \\u0434\\u043e\\u0447\\u0435\\u0440\\u0438 \\u043e\\u0442 \\u043f\\u0435\\u0440\\u0432\\u043e\\u0433\\u043e \\u0431\\u0440\\u0430\\u043a\\u0430, \\u043d\\u0430 \\u0441\\u0435\\u0441\\u0441\\u0438\\u0438 \\u043f\\u043e 4 \\u043d\\u0435\\u0434\\u0435\\u043b\\u0438. \\u041d\\u0435\\u0434\\u0430\\u0432\\u043d\\u043e \\u043f\\u0440\\u043e\\u0441\\u043f\\u0430\\u043b \\u043d\\u0430 \\u0440\\u0430\\u0431\\u043e\\u0442\\u0443 \\u0432 \\u0432\\u043e\\u0441\\u043a\\u0440\\u0435\\u0441\\u0435\\u043d\\u044c\\u0435, \\u043e\\u0441\\u0442\\u0430\\u043b\\u0441\\u044f \\u0434\\u043e\\u043c\\u0430. \\u041a\\u0430\\u043a\\u043e\\u0439 \\u0436\\u0435 \\u044d\\u0442\\u043e \\u043a\\u0430\\u0439\\u0444 \\u043f\\u0440\\u043e\\u0441\\u044b\\u043f\\u0430\\u0442\\u044c\\u0441\\u044f \\u043d\\u0435 \\u0441\\u043e\\u0432\\u0441\\u0435\\u043c \\u0440\\u0430\\u043d\\u043d\\u0438\\u043c \\u0443\\u0442\\u0440\\u043e\\u043c \\u0432 \\u043e\\u0431\\u044a\\u044f\\u0442\\u0438\\u044f\\u0445 \\u043b\\u044e\\u0431\\u0438\\u043c\\u043e\\u0433\\u043e!!! \\u0412\\u043e\\u0442 \\u0447\\u0442\\u043e \\u0434\\u0435\\u0439\\u0441\\u0442\\u0432\\u0438\\u0442\\u0435\\u043b\\u044c\\u043d\\u043e \\u0446\\u0435\\u043d\\u043d\\u043e!!!\",\n          \"5 \\u043b\\u0435\\u0442 \\u043d\\u0430\\u0437\\u0430\\u0434 \\u043c\\u043d\\u0435 \\u0434\\u043e \\u0431\\u0435\\u0437\\u0443\\u043c\\u043d\\u043e\\u0441\\u0442\\u0438 \\u0445\\u043e\\u0442\\u0435\\u043b\\u043e\\u0441\\u044c \\u0443\\u0441\\u044b\\u043d\\u043e\\u0432\\u0438\\u0442\\u044c \\u0440\\u0435\\u0431\\u0435\\u043d\\u043a\\u0430. \\u0412\\u0441\\u0435 \\u043c\\u043e\\u0438 \\u0437\\u043d\\u0430\\u043a\\u043e\\u043c\\u044b\\u0435 \\u0438 \\u0440\\u043e\\u0434\\u0438\\u0442\\u0435\\u043b\\u0438 \\u0442\\u0432\\u0435\\u0440\\u0434\\u0438\\u043b\\u0438 \\u043c\\u043d\\u0435: \\\"\\u0417\\u0430\\u0447\\u0435\\u043c \\u0442\\u0435\\u0431\\u0435 \\u043d\\u0443\\u0436\\u0435\\u043d \\u0447\\u0443\\u0436\\u043e\\u0439 \\u0440\\u0435\\u0431\\u0435\\u043d\\u043e\\u043a?! \\u042d\\u0442\\u043e \\u043d\\u0435 \\u0442\\u0432\\u043e\\u0438 \\u0433\\u0435\\u043d\\u044b! \\u0422\\u044b \\u043a\\u0440\\u0430\\u0441\\u0438\\u0432\\u0430\\u044f \\u0438 \\u0443\\u043c\\u043d\\u0430\\u044f, \\u0442\\u044b \\u043c\\u043e\\u0436\\u0435\\u0448\\u044c \\u0440\\u043e\\u0434\\u0438\\u0442\\u044c \\u0440\\u0435\\u0431\\u0435\\u043d\\u043a\\u0430 \\u0441\\u0430\\u043c\\u0430! \\u0417\\u0430\\u0447\\u0435\\u043c \\u0442\\u0435\\u0431\\u0435 \\u0447\\u0435\\u0439-\\u0442\\u043e \\u043e\\u0431\\u043e\\u0440\\u0432\\u0430\\u043d\\u0435\\u0446? \\u0422\\u044b \\u0442\\u043e\\u043b\\u044c\\u043a\\u043e \\u0437\\u0430\\u043a\\u043e\\u043d\\u0447\\u0438\\u043b\\u0430 \\u0443\\u043d\\u0438\\u0432\\u0435\\u0440\\u0441\\u0438\\u0442\\u0435\\u0442 \\u0438 \\u0443\\u0441\\u0442\\u0440\\u043e\\u0438\\u043b\\u0430\\u0441\\u044c \\u043d\\u0430 \\u0440\\u0430\\u0431\\u043e\\u0442\\u0443, \\u0442\\u0435\\u0431\\u0435 \\u0436\\u0435 \\u0434\\u0430\\u0436\\u0435 \\u0434\\u0435\\u043d\\u0435\\u0433 \\u043d\\u0435 \\u0445\\u0432\\u0430\\u0442\\u0438\\u0442! \\u0415\\u0441\\u043b\\u0438 \\u0442\\u044b \\u043a\\u043e\\u0433\\u043e-\\u043d\\u0438\\u0431\\u0443\\u0434\\u044c \\u0443\\u0441\\u044b\\u043d\\u043e\\u0432\\u0438\\u0448\\u044c - \\u0442\\u044b \\u043d\\u0430\\u043c \\u0431\\u043e\\u043b\\u044c\\u0448\\u0435 \\u043d\\u0435 \\u0434\\u043e\\u0447\\u044c!\\\" \\u0438 \\u0442.\\u043f. \\u0418 \\u043d\\u0438\\u043a\\u043e\\u0433\\u043e \\u043d\\u0435 \\u043f\\u043e\\u0441\\u043b\\u0443\\u0448\\u0430\\u0432, \\u044f \\u0443\\u0441\\u044b\\u043d\\u043e\\u0432\\u0438\\u043b\\u0430 \\u043f\\u0440\\u0435\\u043a\\u0440\\u0430\\u0441\\u043d\\u043e\\u0433\\u043e \\u043c\\u0430\\u043b\\u044c\\u0447\\u0438\\u043a\\u0430 6 \\u043b\\u0435\\u0442. \\u0421\\u0435\\u0439\\u0447\\u0430\\u0441 \\u0435\\u043c\\u0443 \\u0443\\u0436\\u0435 11. \\u042f \\u0431\\u0435\\u0437\\u0443\\u043c\\u043d\\u043e \\u043b\\u044e\\u0431\\u043b\\u044e \\u0441\\u0432\\u043e\\u0435\\u0433\\u043e \\u0441\\u044b\\u043d\\u0430, \\u043a\\u0430\\u043a \\u0440\\u043e\\u0434\\u043d\\u043e\\u0433\\u043e, \\u0430 \\u043e\\u043d \\u0442\\u0430\\u043a\\u0436\\u0435 \\u0431\\u0435\\u0437\\u0443\\u043c\\u043d\\u043e \\u043b\\u044e\\u0431\\u0438\\u0442 \\u043c\\u0435\\u043d\\u044f. \\u0414\\u0435\\u043d\\u0435\\u0433 \\u043d\\u0430\\u043c \\u0445\\u0432\\u0430\\u0442\\u0430\\u0435\\u0442, \\u043c\\u044b \\u043d\\u0438 \\u0432 \\u0447\\u0435\\u043c \\u043d\\u0435 \\u043d\\u0443\\u0436\\u0434\\u0430\\u0435\\u043c\\u0441\\u044f.  \\u0418 \\u043d\\u0435\\u0434\\u0435\\u043b\\u044e \\u043d\\u0430\\u0437\\u0430\\u0434 \\u043c\\u044b \\u0445\\u043e\\u0434\\u0438\\u043b\\u0438 \\u0441\\u043d\\u043e\\u0432\\u0430 \\u0432 \\u0434\\u0435\\u0442\\u0441\\u043a\\u0438\\u0439 \\u0434\\u043e\\u043c, \\u043e\\u0444\\u043e\\u0440\\u043c\\u043b\\u044f\\u043b\\u0438 \\u0434\\u043e\\u043a\\u0443\\u043c\\u0435\\u043d\\u0442\\u044b \\u043d\\u0430 \\u0443\\u0434\\u043e\\u0447\\u0435\\u0440\\u0435\\u043d\\u0438\\u0435 \\u0434\\u0435\\u0432\\u043e\\u0447\\u043a\\u0438. \\u0422\\u0435\\u043f\\u0435\\u0440\\u044c \\u0443 \\u043c\\u0435\\u043d\\u044f \\u0435\\u0441\\u0442\\u044c 2 \\u043f\\u0440\\u0435\\u043a\\u0440\\u0430\\u0441\\u043d\\u044b\\u0445 \\u0430\\u043d\\u0433\\u0435\\u043b\\u0430, \\u043a\\u043e\\u0442\\u043e\\u0440\\u044b\\u0435 \\u043f\\u0440\\u0438\\u043d\\u043e\\u0441\\u044f\\u0442 \\u043c\\u043d\\u0435 \\u0441\\u0447\\u0430\\u0441\\u0442\\u044c\\u0435 \\u0438 \\u0440\\u0430\\u0434\\u043e\\u0441\\u0442\\u044c. \\u042f \\u0441\\u0430\\u043c\\u0430\\u044f \\u0441\\u0447\\u0430\\u0441\\u0442\\u043b\\u0438\\u0432\\u0430\\u044f \\u043c\\u0430\\u043c\\u0430. \\u0418 \\u044f \\u043e\\u0447\\u0435\\u043d\\u044c \\u0440\\u0430\\u0434\\u0430, \\u0447\\u0442\\u043e \\u043d\\u0435 \\u043f\\u043e\\u0441\\u043b\\u0443\\u0448\\u0430\\u043b\\u0430\\u0441\\u044c \\u043a\\u043e\\u0433\\u0434\\u0430-\\u0442\\u043e \\u0441\\u0432\\u043e\\u0438\\u0445 \\u0431\\u044b\\u0432\\u0448\\u0438\\u0445 \\u0434\\u0440\\u0443\\u0437\\u0435\\u0439 \\u0438 \\u0440\\u043e\\u0434\\u0438\\u0442\\u0435\\u043b\\u0435\\u0439.\"\n        ],\n        \"semantic_type\": \"\",\n        \"description\": \"\"\n      }\n    },\n    {\n      \"column\": \"Labels CEDR\",\n      \"properties\": {\n        \"dtype\": \"category\",\n        \"num_unique_values\": 4,\n        \"samples\": [\n          \"ANGER\",\n          \"ENJOYMENT\",\n          \"DISTRESS\"\n        ],\n        \"semantic_type\": \"\",\n        \"description\": \"\"\n      }\n    },\n    {\n      \"column\": \"Texts SEARA\",\n      \"properties\": {\n        \"dtype\": \"string\",\n        \"num_unique_values\": 20,\n        \"samples\": [\n          \"\\u0423 \\u043c\\u0435\\u043d\\u044f \\u043d\\u0438\\u043a\\u043e\\u0433\\u0434\\u0430 \\u043d\\u0435 \\u0431\\u044b\\u043b\\u043e \\u0441\\u0432\\u043e\\u0435\\u0439 \\u043a\\u043e\\u043c\\u043d\\u0430\\u0442\\u044b. \\u0416\\u0438\\u043b\\u0438 \\u043f\\u043e\\u043b\\u043d\\u043e\\u0439 \\u0441\\u0435\\u043c\\u044c\\u0451\\u0439 \\u0432 \\u0442\\u0440\\u0451\\u0445\\u043a\\u043e\\u043c\\u043d\\u0430\\u0442\\u043d\\u043e\\u0439 \\u043a\\u0432\\u0430\\u0440\\u0442\\u0438\\u0440\\u0435, \\u0438 \\u044f \\u0441\\u043d\\u0430\\u0447\\u0430\\u043b\\u0430 \\u0441\\u043f\\u0430\\u043b\\u0430 \\u0441 \\u0440\\u043e\\u0434\\u0438\\u0442\\u0435\\u043b\\u044f\\u043c\\u0438, \\u0430 \\u043f\\u043e\\u0442\\u043e\\u043c \\u2014 \\u0441 \\u0431\\u0430\\u0431\\u0443\\u0448\\u043a\\u043e\\u0439. \\u042f \\u043b\\u044e\\u0431\\u0438\\u043b\\u0430 \\u0435\\u0451, \\u043d\\u043e \\u0432\\u0441\\u0451 \\u0440\\u0430\\u0432\\u043d\\u043e \\u0432\\u0441\\u0451 \\u0432\\u0440\\u0435\\u043c\\u044f \\u043c\\u0435\\u0447\\u0442\\u0430\\u043b\\u0430 \\u043e \\u0441\\u0432\\u043e\\u0435\\u0439 \\u043a\\u043e\\u043c\\u043d\\u0430\\u0442\\u0435, \\u0433\\u0434\\u0435 \\u043d\\u0438\\u043a\\u0442\\u043e \\u043d\\u0435 \\u0432\\u0441\\u0442\\u0430\\u043d\\u0435\\u0442 \\u0432 \\u0441\\u0435\\u043c\\u044c \\u0443\\u0442\\u0440\\u0430 \\u043f\\u0438\\u0442\\u044c \\u0442\\u0430\\u0431\\u043b\\u0435\\u0442\\u043a\\u0438, \\u0434\\u0435\\u043b\\u0430\\u0442\\u044c \\u0443\\u043a\\u043e\\u043b\\u044b \\u0438\\u043b\\u0438 \\u043f\\u0440\\u043e\\u0441\\u0442\\u043e \\u043d\\u0435 \\u0431\\u0443\\u0434\\u0435\\u0442 \\u0433\\u0440\\u043e\\u043c\\u043a\\u043e \\u0432\\u043e\\u0440\\u043e\\u0447\\u0430\\u0442\\u044c\\u0441\\u044f \\u043d\\u0430 \\u0441\\u043e\\u0441\\u0435\\u0434\\u043d\\u0435\\u0439 \\u043f\\u043e\\u0441\\u0442\\u0435\\u043b\\u0438. \\u0410 \\u044d\\u0442\\u0438\\u043c \\u043b\\u0435\\u0442\\u043e\\u043c \\u0431\\u0430\\u0431\\u0443\\u0448\\u043a\\u0430 \\u0443\\u043c\\u0435\\u0440\\u043b\\u0430. \\u041e\\u0442\\u043e\\u0440\\u0432\\u0430\\u043b\\u0441\\u044f \\u0442\\u0440\\u043e\\u043c\\u0431. \\u042f \\u0440\\u044b\\u0434\\u0430\\u043b\\u0430 \\u0438 \\u0440\\u044b\\u0434\\u0430\\u043b\\u0430. \\u0418 \\u043a\\u0430\\u043a \\u0431\\u044b \\u043c\\u043d\\u043e\\u0433\\u043e \\u0441\\u0435\\u0439\\u0447\\u0430\\u0441 \\u043e\\u0442\\u0434\\u0430\\u043b\\u0430, \\u0447\\u0442\\u043e\\u0431\\u044b \\u043f\\u0440\\u043e\\u0441\\u0442\\u043e \\u043e\\u0431\\u043d\\u044f\\u0442\\u044c \\u0435\\u0451. \\u0417\\u0430\\u0442\\u043e \\u0442\\u0435\\u043f\\u0435\\u0440\\u044c \\u0435\\u0441\\u0442\\u044c \\u0441\\u0432\\u043e\\u044f \\u043a\\u043e\\u043c\\u043d\\u0430\\u0442\\u0430... \\u0422\\u0430\\u043a\\u0430\\u044f \\u0431\\u043e\\u043b\\u044c\\u0448\\u0430\\u044f \\u0434\\u043b\\u044f \\u043e\\u0434\\u043d\\u043e\\u0433\\u043e \\u0447\\u0435\\u043b\\u043e\\u0432\\u0435\\u043a\\u0430.\",\n          \"\\u042f \\u0442\\u0443\\u0442 \\u0437\\u043d\\u0430\\u0435\\u0442\\u0435, \\u0447\\u0442\\u043e \\u043f\\u043e\\u043d\\u044f\\u043b. \\u041f\\u043e \\u0431\\u043e\\u043b\\u044c\\u0448\\u043e\\u043c\\u0443 \\u0441\\u0447\\u0451\\u0442\\u0443 \\u0432\\u0441\\u0435 \\u0440\\u0430\\u0432\\u043d\\u043e \\u043a\\u0430\\u043a\\u043e\\u0439 \\u0447\\u0435\\u043b\\u043e\\u0432\\u0435\\u043a, \\u0432\\u0441\\u0435 \\u0432\\u043d\\u0435\\u0448\\u043d\\u0438\\u0435, \\u0434\\u0430 \\u0438 \\u0434\\u0430\\u0436\\u0435 \\u043b\\u0438\\u0447\\u043d\\u043e\\u0441\\u0442\\u043d\\u044b\\u0435 \\u043a\\u0430\\u0447\\u0435\\u0441\\u0442\\u0432\\u0430. \\u0421\\u0430\\u043c\\u043e\\u0435 \\u0433\\u043b\\u0430\\u0432\\u043d\\u043e\\u0435 \\u0442\\u043e, \\u043a\\u0430\\u043a \\u0442\\u044b \\u0447\\u0443\\u0432\\u0441\\u0442\\u0432\\u0443\\u0435\\u0448\\u044c \\u0441\\u0435\\u0431\\u044f \\u0441 \\u043d\\u0438\\u043c. \\u041a\\u0430\\u043a\\u043e\\u0439 \\u0436\\u0435 \\u044d\\u0442\\u043e \\u043a\\u0430\\u0439\\u0444, \\u043a\\u043e\\u0433\\u0434\\u0430 \\u0442\\u0435\\u0431\\u044f \\u043f\\u043e\\u043d\\u0438\\u043c\\u0430\\u044e\\u0442 \\u0441 \\u043f\\u043e\\u043b\\u0443\\u0441\\u043b\\u043e\\u0432\\u0430. \\u041a\\u0430\\u043a\\u043e\\u0439 \\u0436\\u0435 \\u044d\\u0442\\u043e \\u043a\\u0430\\u0439\\u0444, \\u043a\\u043e\\u0433\\u0434\\u0430 \\u0442\\u0435\\u0431\\u0435 \\u043d\\u0435 \\u043d\\u0430\\u0434\\u043e \\u043f\\u0440\\u0438\\u0442\\u0432\\u043e\\u0440\\u044f\\u0442\\u044c\\u0441\\u044f. \\u041a\\u0430\\u043a\\u043e\\u0439 \\u0436\\u0435 \\u044d\\u0442\\u043e \\u043a\\u0430\\u0439\\u0444, \\u043a\\u043e\\u0433\\u0434\\u0430 \\u0432\\u0430\\u043c \\u0445\\u043e\\u0440\\u043e\\u0448\\u043e \\u0432\\u0434\\u0432\\u043e\\u0435\\u043c, \\u043f\\u0440\\u043e\\u0441\\u0442\\u043e \\u043e\\u0431\\u043d\\u044f\\u0432\\u0448\\u0438\\u0441\\u044c. \\u041a\\u043e\\u0433\\u0434\\u0430 \\u043c\\u043e\\u0436\\u043d\\u043e \\u043d\\u0435\\u0441\\u0442\\u0438 \\u0432\\u0441\\u044f\\u043a\\u0438\\u0439 \\u0431\\u0440\\u0435\\u0434 \\u0438 \\u043d\\u0438\\u0447\\u0435\\u0433\\u043e \\u043d\\u0435 \\u0441\\u0442\\u0435\\u0441\\u043d\\u044f\\u0442\\u044c\\u0441\\u044f. \\u0427\\u0443\\u0432\\u0441\\u0442\\u0432\\u043e\\u0432\\u0430\\u0442\\u044c \\u0441\\u0435\\u0431\\u044f \\u0432 \\u0434\\u0440\\u0443\\u0433\\u043e\\u043c \\u0447\\u0435\\u043b\\u043e\\u0432\\u0435\\u043a\\u0435. \\u0426\\u0435\\u043d\\u0438\\u0442\\u0435 \\u044d\\u0442\\u043e, \\u043b\\u044e\\u0434\\u0438... \\u041d\\u0435\\u043b\\u044c\\u0437\\u044f \\u0432\\u043b\\u044e\\u0431\\u0438\\u0442\\u044c\\u0441\\u044f \\\"\\u0437\\u0430 \\u0447\\u0442\\u043e-\\u0442\\u043e\\\"... \\u041d\\u0435\\u043b\\u044c\\u0437\\u044f \\u0432\\u043b\\u044e\\u0431\\u0438\\u0442\\u044c\\u0441\\u044f \\u0437\\u0430 \\u0442\\u043e, \\u0447\\u0442\\u043e \\u043e\\u043d\\u0430 \\u043a\\u0440\\u0430\\u0441\\u0438\\u0432\\u0430\\u044f, \\u0432\\u0435\\u0441\\u0435\\u043b\\u0430\\u044f \\u0438 \\u043d\\u0435\\u0433\\u043b\\u0443\\u043f\\u0430\\u044f. \\u042d\\u0442\\u0438\\u043c \\u043c\\u043e\\u0436\\u043d\\u043e \\u0442\\u043e\\u043b\\u044c\\u043a\\u043e \\u0437\\u0430\\u0438\\u043d\\u0442\\u0435\\u0440\\u0435\\u0441\\u043e\\u0432\\u0430\\u0442\\u044c \\u0432 \\u0441\\u0430\\u043c\\u043e\\u043c \\u043d\\u0430\\u0447\\u0430\\u043b\\u0435. \\u0412\\u043b\\u044e\\u0431\\u043b\\u044f\\u044e\\u0442\\u0441\\u044f \\u0432 \\u043e\\u0449\\u0443\\u0449\\u0435\\u043d\\u0438\\u044f, \\u043a\\u043e\\u0442\\u043e\\u0440\\u044b\\u0435 \\u0438\\u0441\\u043f\\u044b\\u0442\\u044b\\u0432\\u0430\\u0435\\u0448\\u044c \\u0440\\u044f\\u0434\\u043e\\u043c \\u0441 \\u0447\\u0435\\u043b\\u043e\\u0432\\u0435\\u043a\\u043e\\u043c. \\u0418 \\u044f \\u0442\\u0430\\u043a \\u0441\\u0435\\u0439\\u0447\\u0430\\u0441 \\u0441\\u0447\\u0430\\u0441\\u0442\\u043b\\u0438\\u0432, \\u0447\\u0442\\u043e \\u043f\\u0440\\u043e\\u0441\\u0442\\u043e \\u043f\\u0438\\u0437\\u0434\\u0435\\u0446.\",\n          \"\\u042f \\u043d\\u0435 \\u043b\\u044e\\u0431\\u043b\\u044e \\u043b\\u044e\\u0434\\u0435\\u0439. \\u041d\\u0435 \\u0432\\u0435\\u0440\\u044e \\u0438\\u043c, \\u043d\\u0435 \\u043e\\u0431\\u0449\\u0430\\u044e\\u0441\\u044c, \\u043f\\u043e\\u0447\\u0442\\u0438 \\u043d\\u0435 \\u043a\\u043e\\u043d\\u0442\\u0430\\u043a\\u0442\\u0438\\u0440\\u0443\\u044e. \\u041d\\u0435\\u0442 \\u0443 \\u043c\\u0435\\u043d\\u044f \\u0434\\u0440\\u0443\\u0437\\u0435\\u0439. \\u042d\\u0442\\u043e \\u0435\\u0449\\u0435 \\u0441\\u043e \\u0448\\u043a\\u043e\\u043b\\u044b. \\u0422\\u0430\\u043a \\u043f\\u043e\\u043b\\u0443\\u0447\\u0438\\u043b\\u043e\\u0441\\u044c, \\u0447\\u0442\\u043e \\u044f \\u043d\\u0435 \\u0438\\u0437 \\u0431\\u043e\\u0433\\u0430\\u0442\\u043e\\u0439 \\u0441\\u0435\\u043c\\u044c\\u0438, \\u043e\\u0434\\u0435\\u0432\\u0430\\u043b\\u0441\\u044f \\u0432\\u0441\\u0435\\u0433\\u0434\\u0430 \\u043d\\u0435 \\u0432 \\u0441\\u0430\\u043c\\u044b\\u0435 \\u043a\\u0440\\u0443\\u0442\\u044b\\u0435 \\u0432\\u0435\\u0449\\u0438 \\u0438 \\u0442\\u0435\\u043b\\u0435\\u0444\\u043e\\u043d\\u0430 \\u043a\\u0440\\u0443\\u0442\\u043e\\u0433\\u043e \\u043d\\u0435 \\u0438\\u043c\\u0435\\u043b, \\u0430 \\u0443\\u0447\\u0438\\u043b\\u0441\\u044f \\u0441\\u0440\\u0435\\u0434\\u0438 \\u0431\\u043e\\u0433\\u0430\\u0442\\u0435\\u043d\\u044c\\u043a\\u0438\\u0445 \\u0438 \\u0438\\u0437\\u0431\\u0430\\u043b\\u043e\\u0432\\u0430\\u043d\\u043d\\u044b\\u0445. \\u0420\\u043e\\u0434\\u0438\\u0442\\u0435\\u043b\\u0438 \\u043f\\u0435\\u0440\\u0435\\u0436\\u0438\\u0432\\u0430\\u043b\\u0438, \\u0447\\u0442\\u043e \\u044f \\u0442\\u0430\\u043a \\u0438 \\u0431\\u0443\\u0434\\u0443 \\u043e\\u0434\\u0438\\u043d, \\u043d\\u0435 \\u043d\\u0430\\u0439\\u0434\\u0443 \\u0434\\u0435\\u0432\\u0443\\u0448\\u043a\\u0443, \\u043d\\u0435 \\u0441\\u043e\\u0437\\u0434\\u0430\\u043c \\u0441\\u0435\\u043c\\u044c\\u044e. \\u042f \\u0438 \\u0441\\u0430\\u043c \\u0441\\u0442\\u0430\\u043b \\u0431\\u043e\\u044f\\u0442\\u044c\\u0441\\u044f. \\u041d\\u043e \\u044f \\u0435\\u0435 \\u043d\\u0430\\u0448\\u0435\\u043b. \\u041e\\u043d\\u0430 \\u0442\\u043e\\u0436\\u0435 \\u043d\\u0435 \\u043b\\u044e\\u0431\\u0438\\u0442 \\u043b\\u044e\\u0434\\u0435\\u0439. \\u0423 \\u043d\\u0430\\u0441 \\u0441\\u0432\\u043e\\u0439 \\u0434\\u043e\\u043c \\u0437\\u0430 \\u0433\\u043e\\u0440\\u043e\\u0434\\u043e\\u043c, \\u0434\\u0432\\u043e\\u0435 \\u0434\\u0435\\u0442\\u0435\\u0439. \\u0423 \\u043d\\u0430\\u0441 \\u0441\\u0432\\u043e\\u0451 \\u043c\\u0430\\u043b\\u0435\\u043d\\u044c\\u043a\\u043e\\u0435 \\u043a\\u0430\\u0444\\u0435, \\u043a\\u043e\\u0442\\u043e\\u0440\\u043e\\u0435 \\u043c\\u044b \\u0441\\u043e\\u0437\\u0434\\u0430\\u043b\\u0438 \\u0434\\u043b\\u044f \\u043b\\u044e\\u0434\\u0435\\u0439, \\u0447\\u0442\\u043e \\u043b\\u044e\\u0431\\u044f\\u0442 \\u043f\\u043e\\u0441\\u0438\\u0434\\u0435\\u0442\\u044c \\u0432 \\u0442\\u0438\\u0448\\u0438\\u043d\\u0435 \\u0441\\u0430\\u043c\\u0438 \\u0441 \\u0441\\u043e\\u0431\\u043e\\u0439, \\u0442\\u0430\\u043c \\u0432\\u0441\\u0435\\u0433\\u0434\\u0430 \\u0441\\u043f\\u043e\\u043a\\u043e\\u0439\\u043d\\u0430\\u044f \\u043c\\u0443\\u0437\\u044b\\u043a\\u0430 \\u0438 \\u043a\\u043d\\u0438\\u0433\\u0438. \\u0418 \\u044f \\u0441\\u0447\\u0438\\u0442\\u0430\\u044e, \\u0447\\u0442\\u043e \\u043c\\u043e\\u044f \\u0436\\u0438\\u0437\\u043d\\u044c \\u0443\\u0434\\u0430\\u043b\\u0430\\u0441\\u044c.\"\n        ],\n        \"semantic_type\": \"\",\n        \"description\": \"\"\n      }\n    },\n    {\n      \"column\": \"Labels SEARA\",\n      \"properties\": {\n        \"dtype\": \"category\",\n        \"num_unique_values\": 4,\n        \"samples\": [\n          \"ANGER\",\n          \"ENJOYMENT\",\n          \"DISTRESS\"\n        ],\n        \"semantic_type\": \"\",\n        \"description\": \"\"\n      }\n    }\n  ]\n}"
            }
          },
          "metadata": {},
          "execution_count": 17
        }
      ]
    },
    {
      "cell_type": "markdown",
      "source": [
        "Вывод: на предоставленных данных модели CEDR и SEARA показали приблизительно одинаковые результаты, в первой итерации 19/19 SEARA/CEDR, во второй 19/20 SEARA/CEDR (как и по количеству правильно определенных классов, так и по меткам). Наиболее часто правильно определенные эмоции: ENJOYMENT, ANGER, DISTRESS"
      ],
      "metadata": {
        "id": "h5w437wHjU0t"
      }
    },
    {
      "cell_type": "markdown",
      "source": [
        "Проверим гипотезу, согласно которой наилучший результат для определения эмоций дает регрессия."
      ],
      "metadata": {
        "id": "HCuqxKorjwME"
      }
    },
    {
      "cell_type": "markdown",
      "source": [
        "Обучим алгоритм логистической (полиномиальной) регрессии"
      ],
      "metadata": {
        "id": "QnzFjmQhj_HQ"
      }
    },
    {
      "cell_type": "markdown",
      "source": [
        "Загрузим датасет sagteam/cedr, на основе которого обучались модели CEDR и SEARA"
      ],
      "metadata": {
        "id": "OrB-bgv9uNl3"
      }
    },
    {
      "cell_type": "code",
      "source": [
        "splits = {'train': 'enriched/train-00000-of-00001.parquet', 'test': 'enriched/test-00000-of-00001.parquet'}\n",
        "dataset_for_cedr_seara = pd.read_parquet(\"hf://datasets/sagteam/cedr_v1/\" + splits[\"train\"])\n",
        "dataset_for_cedr_seara.head()"
      ],
      "metadata": {
        "colab": {
          "base_uri": "https://localhost:8080/",
          "height": 206
        },
        "id": "hkRCof3suNP4",
        "outputId": "22a72542-7e7d-49de-8fd3-25192691b197"
      },
      "execution_count": 18,
      "outputs": [
        {
          "output_type": "execute_result",
          "data": {
            "text/plain": [
              "                                                text labels   source  \\\n",
              "0                      Суровый гималайский медведь .     []       lj   \n",
              "1  Так, обнаружено несколько проблем с дисплеем (...     []    lenta   \n",
              "2  У меня остается только один вопрос - является ...    [2]       lj   \n",
              "3  Забавно как люди в возрасте удивляются входящи...    [0]  twitter   \n",
              "4  Издание The Register отмечает, что у владельце...     []    lenta   \n",
              "\n",
              "                                           sentences  \n",
              "0  [[{'forma': 'Суровый', 'lemma': 'суровый'}, {'...  \n",
              "1  [[{'forma': 'Так', 'lemma': 'так'}, {'forma': ...  \n",
              "2  [[{'forma': 'У', 'lemma': 'у'}, {'forma': 'мен...  \n",
              "3  [[{'forma': 'Забавно', 'lemma': 'Забавно'}, {'...  \n",
              "4  [[{'forma': 'Издание', 'lemma': 'издание'}, {'...  "
            ],
            "text/html": [
              "\n",
              "  <div id=\"df-fbfdd323-e951-48fd-b38e-234735534755\" class=\"colab-df-container\">\n",
              "    <div>\n",
              "<style scoped>\n",
              "    .dataframe tbody tr th:only-of-type {\n",
              "        vertical-align: middle;\n",
              "    }\n",
              "\n",
              "    .dataframe tbody tr th {\n",
              "        vertical-align: top;\n",
              "    }\n",
              "\n",
              "    .dataframe thead th {\n",
              "        text-align: right;\n",
              "    }\n",
              "</style>\n",
              "<table border=\"1\" class=\"dataframe\">\n",
              "  <thead>\n",
              "    <tr style=\"text-align: right;\">\n",
              "      <th></th>\n",
              "      <th>text</th>\n",
              "      <th>labels</th>\n",
              "      <th>source</th>\n",
              "      <th>sentences</th>\n",
              "    </tr>\n",
              "  </thead>\n",
              "  <tbody>\n",
              "    <tr>\n",
              "      <th>0</th>\n",
              "      <td>Суровый гималайский медведь .</td>\n",
              "      <td>[]</td>\n",
              "      <td>lj</td>\n",
              "      <td>[[{'forma': 'Суровый', 'lemma': 'суровый'}, {'...</td>\n",
              "    </tr>\n",
              "    <tr>\n",
              "      <th>1</th>\n",
              "      <td>Так, обнаружено несколько проблем с дисплеем (...</td>\n",
              "      <td>[]</td>\n",
              "      <td>lenta</td>\n",
              "      <td>[[{'forma': 'Так', 'lemma': 'так'}, {'forma': ...</td>\n",
              "    </tr>\n",
              "    <tr>\n",
              "      <th>2</th>\n",
              "      <td>У меня остается только один вопрос - является ...</td>\n",
              "      <td>[2]</td>\n",
              "      <td>lj</td>\n",
              "      <td>[[{'forma': 'У', 'lemma': 'у'}, {'forma': 'мен...</td>\n",
              "    </tr>\n",
              "    <tr>\n",
              "      <th>3</th>\n",
              "      <td>Забавно как люди в возрасте удивляются входящи...</td>\n",
              "      <td>[0]</td>\n",
              "      <td>twitter</td>\n",
              "      <td>[[{'forma': 'Забавно', 'lemma': 'Забавно'}, {'...</td>\n",
              "    </tr>\n",
              "    <tr>\n",
              "      <th>4</th>\n",
              "      <td>Издание The Register отмечает, что у владельце...</td>\n",
              "      <td>[]</td>\n",
              "      <td>lenta</td>\n",
              "      <td>[[{'forma': 'Издание', 'lemma': 'издание'}, {'...</td>\n",
              "    </tr>\n",
              "  </tbody>\n",
              "</table>\n",
              "</div>\n",
              "    <div class=\"colab-df-buttons\">\n",
              "\n",
              "  <div class=\"colab-df-container\">\n",
              "    <button class=\"colab-df-convert\" onclick=\"convertToInteractive('df-fbfdd323-e951-48fd-b38e-234735534755')\"\n",
              "            title=\"Convert this dataframe to an interactive table.\"\n",
              "            style=\"display:none;\">\n",
              "\n",
              "  <svg xmlns=\"http://www.w3.org/2000/svg\" height=\"24px\" viewBox=\"0 -960 960 960\">\n",
              "    <path d=\"M120-120v-720h720v720H120Zm60-500h600v-160H180v160Zm220 220h160v-160H400v160Zm0 220h160v-160H400v160ZM180-400h160v-160H180v160Zm440 0h160v-160H620v160ZM180-180h160v-160H180v160Zm440 0h160v-160H620v160Z\"/>\n",
              "  </svg>\n",
              "    </button>\n",
              "\n",
              "  <style>\n",
              "    .colab-df-container {\n",
              "      display:flex;\n",
              "      gap: 12px;\n",
              "    }\n",
              "\n",
              "    .colab-df-convert {\n",
              "      background-color: #E8F0FE;\n",
              "      border: none;\n",
              "      border-radius: 50%;\n",
              "      cursor: pointer;\n",
              "      display: none;\n",
              "      fill: #1967D2;\n",
              "      height: 32px;\n",
              "      padding: 0 0 0 0;\n",
              "      width: 32px;\n",
              "    }\n",
              "\n",
              "    .colab-df-convert:hover {\n",
              "      background-color: #E2EBFA;\n",
              "      box-shadow: 0px 1px 2px rgba(60, 64, 67, 0.3), 0px 1px 3px 1px rgba(60, 64, 67, 0.15);\n",
              "      fill: #174EA6;\n",
              "    }\n",
              "\n",
              "    .colab-df-buttons div {\n",
              "      margin-bottom: 4px;\n",
              "    }\n",
              "\n",
              "    [theme=dark] .colab-df-convert {\n",
              "      background-color: #3B4455;\n",
              "      fill: #D2E3FC;\n",
              "    }\n",
              "\n",
              "    [theme=dark] .colab-df-convert:hover {\n",
              "      background-color: #434B5C;\n",
              "      box-shadow: 0px 1px 3px 1px rgba(0, 0, 0, 0.15);\n",
              "      filter: drop-shadow(0px 1px 2px rgba(0, 0, 0, 0.3));\n",
              "      fill: #FFFFFF;\n",
              "    }\n",
              "  </style>\n",
              "\n",
              "    <script>\n",
              "      const buttonEl =\n",
              "        document.querySelector('#df-fbfdd323-e951-48fd-b38e-234735534755 button.colab-df-convert');\n",
              "      buttonEl.style.display =\n",
              "        google.colab.kernel.accessAllowed ? 'block' : 'none';\n",
              "\n",
              "      async function convertToInteractive(key) {\n",
              "        const element = document.querySelector('#df-fbfdd323-e951-48fd-b38e-234735534755');\n",
              "        const dataTable =\n",
              "          await google.colab.kernel.invokeFunction('convertToInteractive',\n",
              "                                                    [key], {});\n",
              "        if (!dataTable) return;\n",
              "\n",
              "        const docLinkHtml = 'Like what you see? Visit the ' +\n",
              "          '<a target=\"_blank\" href=https://colab.research.google.com/notebooks/data_table.ipynb>data table notebook</a>'\n",
              "          + ' to learn more about interactive tables.';\n",
              "        element.innerHTML = '';\n",
              "        dataTable['output_type'] = 'display_data';\n",
              "        await google.colab.output.renderOutput(dataTable, element);\n",
              "        const docLink = document.createElement('div');\n",
              "        docLink.innerHTML = docLinkHtml;\n",
              "        element.appendChild(docLink);\n",
              "      }\n",
              "    </script>\n",
              "  </div>\n",
              "\n",
              "\n",
              "    <div id=\"df-e35aa1cb-4343-4125-a2fb-119dcaa6818b\">\n",
              "      <button class=\"colab-df-quickchart\" onclick=\"quickchart('df-e35aa1cb-4343-4125-a2fb-119dcaa6818b')\"\n",
              "                title=\"Suggest charts\"\n",
              "                style=\"display:none;\">\n",
              "\n",
              "<svg xmlns=\"http://www.w3.org/2000/svg\" height=\"24px\"viewBox=\"0 0 24 24\"\n",
              "     width=\"24px\">\n",
              "    <g>\n",
              "        <path d=\"M19 3H5c-1.1 0-2 .9-2 2v14c0 1.1.9 2 2 2h14c1.1 0 2-.9 2-2V5c0-1.1-.9-2-2-2zM9 17H7v-7h2v7zm4 0h-2V7h2v10zm4 0h-2v-4h2v4z\"/>\n",
              "    </g>\n",
              "</svg>\n",
              "      </button>\n",
              "\n",
              "<style>\n",
              "  .colab-df-quickchart {\n",
              "      --bg-color: #E8F0FE;\n",
              "      --fill-color: #1967D2;\n",
              "      --hover-bg-color: #E2EBFA;\n",
              "      --hover-fill-color: #174EA6;\n",
              "      --disabled-fill-color: #AAA;\n",
              "      --disabled-bg-color: #DDD;\n",
              "  }\n",
              "\n",
              "  [theme=dark] .colab-df-quickchart {\n",
              "      --bg-color: #3B4455;\n",
              "      --fill-color: #D2E3FC;\n",
              "      --hover-bg-color: #434B5C;\n",
              "      --hover-fill-color: #FFFFFF;\n",
              "      --disabled-bg-color: #3B4455;\n",
              "      --disabled-fill-color: #666;\n",
              "  }\n",
              "\n",
              "  .colab-df-quickchart {\n",
              "    background-color: var(--bg-color);\n",
              "    border: none;\n",
              "    border-radius: 50%;\n",
              "    cursor: pointer;\n",
              "    display: none;\n",
              "    fill: var(--fill-color);\n",
              "    height: 32px;\n",
              "    padding: 0;\n",
              "    width: 32px;\n",
              "  }\n",
              "\n",
              "  .colab-df-quickchart:hover {\n",
              "    background-color: var(--hover-bg-color);\n",
              "    box-shadow: 0 1px 2px rgba(60, 64, 67, 0.3), 0 1px 3px 1px rgba(60, 64, 67, 0.15);\n",
              "    fill: var(--button-hover-fill-color);\n",
              "  }\n",
              "\n",
              "  .colab-df-quickchart-complete:disabled,\n",
              "  .colab-df-quickchart-complete:disabled:hover {\n",
              "    background-color: var(--disabled-bg-color);\n",
              "    fill: var(--disabled-fill-color);\n",
              "    box-shadow: none;\n",
              "  }\n",
              "\n",
              "  .colab-df-spinner {\n",
              "    border: 2px solid var(--fill-color);\n",
              "    border-color: transparent;\n",
              "    border-bottom-color: var(--fill-color);\n",
              "    animation:\n",
              "      spin 1s steps(1) infinite;\n",
              "  }\n",
              "\n",
              "  @keyframes spin {\n",
              "    0% {\n",
              "      border-color: transparent;\n",
              "      border-bottom-color: var(--fill-color);\n",
              "      border-left-color: var(--fill-color);\n",
              "    }\n",
              "    20% {\n",
              "      border-color: transparent;\n",
              "      border-left-color: var(--fill-color);\n",
              "      border-top-color: var(--fill-color);\n",
              "    }\n",
              "    30% {\n",
              "      border-color: transparent;\n",
              "      border-left-color: var(--fill-color);\n",
              "      border-top-color: var(--fill-color);\n",
              "      border-right-color: var(--fill-color);\n",
              "    }\n",
              "    40% {\n",
              "      border-color: transparent;\n",
              "      border-right-color: var(--fill-color);\n",
              "      border-top-color: var(--fill-color);\n",
              "    }\n",
              "    60% {\n",
              "      border-color: transparent;\n",
              "      border-right-color: var(--fill-color);\n",
              "    }\n",
              "    80% {\n",
              "      border-color: transparent;\n",
              "      border-right-color: var(--fill-color);\n",
              "      border-bottom-color: var(--fill-color);\n",
              "    }\n",
              "    90% {\n",
              "      border-color: transparent;\n",
              "      border-bottom-color: var(--fill-color);\n",
              "    }\n",
              "  }\n",
              "</style>\n",
              "\n",
              "      <script>\n",
              "        async function quickchart(key) {\n",
              "          const quickchartButtonEl =\n",
              "            document.querySelector('#' + key + ' button');\n",
              "          quickchartButtonEl.disabled = true;  // To prevent multiple clicks.\n",
              "          quickchartButtonEl.classList.add('colab-df-spinner');\n",
              "          try {\n",
              "            const charts = await google.colab.kernel.invokeFunction(\n",
              "                'suggestCharts', [key], {});\n",
              "          } catch (error) {\n",
              "            console.error('Error during call to suggestCharts:', error);\n",
              "          }\n",
              "          quickchartButtonEl.classList.remove('colab-df-spinner');\n",
              "          quickchartButtonEl.classList.add('colab-df-quickchart-complete');\n",
              "        }\n",
              "        (() => {\n",
              "          let quickchartButtonEl =\n",
              "            document.querySelector('#df-e35aa1cb-4343-4125-a2fb-119dcaa6818b button');\n",
              "          quickchartButtonEl.style.display =\n",
              "            google.colab.kernel.accessAllowed ? 'block' : 'none';\n",
              "        })();\n",
              "      </script>\n",
              "    </div>\n",
              "    </div>\n",
              "  </div>\n"
            ],
            "application/vnd.google.colaboratory.intrinsic+json": {
              "type": "dataframe",
              "variable_name": "dataset_for_cedr_seara",
              "summary": "{\n  \"name\": \"dataset_for_cedr_seara\",\n  \"rows\": 7528,\n  \"fields\": [\n    {\n      \"column\": \"text\",\n      \"properties\": {\n        \"dtype\": \"string\",\n        \"num_unique_values\": 7500,\n        \"samples\": [\n          \"\\u041a\\u0430\\u043a \\u0441\\u0442\\u0440\\u0430\\u043d\\u043d\\u043e-\\u043f\\u0440\\u0438\\u0448\\u0435\\u043b \\u043b\\u044e\\u0431\\u0438\\u043c\\u044b\\u0439 \\u0447\\u0435\\u043b\\u043e\\u0432\\u0435\\u043a-\\u0442\\u0435\\u043c\\u043f\\u0435\\u0440\\u0430\\u0442\\u0443\\u0440\\u0430 \\u0441\\u043f\\u0430\\u043b\\u0430.\",\n          \"\\u041e\\u043d\\u0438 \\u0436\\u0435 \\u0441\\u0435\\u0439\\u0447\\u0430\\u0441 \\u0441\\u043e \\u0437\\u043b\\u043e\\u0441\\u0442\\u0438 \\u0441\\u043e\\u0436\\u0440\\u0443\\u0442 \\u043c\\u043e\\u0439 \\u0430\\u0440\\u0431\\u0443\\u0437:(\",\n          \"\\u0411\\u043e\\u044e\\u0441\\u044c!!!\"\n        ],\n        \"semantic_type\": \"\",\n        \"description\": \"\"\n      }\n    },\n    {\n      \"column\": \"labels\",\n      \"properties\": {\n        \"dtype\": \"object\",\n        \"semantic_type\": \"\",\n        \"description\": \"\"\n      }\n    },\n    {\n      \"column\": \"source\",\n      \"properties\": {\n        \"dtype\": \"category\",\n        \"num_unique_values\": 3,\n        \"samples\": [\n          \"lj\",\n          \"lenta\",\n          \"twitter\"\n        ],\n        \"semantic_type\": \"\",\n        \"description\": \"\"\n      }\n    },\n    {\n      \"column\": \"sentences\",\n      \"properties\": {\n        \"dtype\": \"object\",\n        \"semantic_type\": \"\",\n        \"description\": \"\"\n      }\n    }\n  ]\n}"
            }
          },
          "metadata": {},
          "execution_count": 18
        }
      ]
    },
    {
      "cell_type": "markdown",
      "source": [
        "Векторизуем тексты с помощью модели cointegrated/rubert-tiny2 (предобработка не проводилась в связи с большим объемом текстов > 70000 и нагрузкой на облачный GPU Google Colab).\n",
        "Данный дистиллированный трансформер был выбран из-за своего подходящего объема для запуска на CPU"
      ],
      "metadata": {
        "id": "GP3VxEVrkfmr"
      }
    },
    {
      "cell_type": "code",
      "source": [
        "texts_dataset = dataset_for_cedr_seara[\"text\"]"
      ],
      "metadata": {
        "id": "Onj07hzKR-mn"
      },
      "execution_count": 19,
      "outputs": []
    },
    {
      "cell_type": "code",
      "source": [
        "model_encoder = SentenceTransformer(\"cointegrated/rubert-tiny2\")\n",
        "embeddings_dataset = model_encoder.encode(texts_dataset)\n",
        "embeddings_dataset"
      ],
      "metadata": {
        "id": "7AowcDLiktoA"
      },
      "execution_count": null,
      "outputs": []
    },
    {
      "cell_type": "markdown",
      "source": [
        "Категоризуем метки с помощью алгоритма label encoder. Будем использовать данный алгоритм, а не one hot encoder, так как в алгоритме логистической регрессии на вход Y должен подаваться вектор, а не матрица"
      ],
      "metadata": {
        "id": "B4FImC1llOA0"
      }
    },
    {
      "cell_type": "code",
      "source": [
        "labels_dataset = dataset_for_cedr_seara[\"labels\"]\n",
        "labels_dataset_preprocessed = []\n",
        "for label in labels_dataset:\n",
        "  if len(label) == 0:\n",
        "      labels_dataset_preprocessed.append(\"5\")\n",
        "  else:\n",
        "    if label[0] == 0:\n",
        "      labels_dataset_preprocessed.append(\"0\")\n",
        "    elif label[0] == 1:\n",
        "      labels_dataset_preprocessed.append(\"1\")\n",
        "    elif label[0] == 2:\n",
        "      labels_dataset_preprocessed.append(\"2\")\n",
        "    elif label[0] == 3:\n",
        "      labels_dataset_preprocessed.append(\"3\")\n",
        "    elif label[0] == 4:\n",
        "      labels_dataset_preprocessed.append(\"4\")\n",
        "len(labels_dataset_preprocessed)\n"
      ],
      "metadata": {
        "colab": {
          "base_uri": "https://localhost:8080/"
        },
        "collapsed": true,
        "id": "w5nHOkX4lZPp",
        "outputId": "772377d9-10e8-470b-9aa7-932dac2eb1c6"
      },
      "execution_count": 47,
      "outputs": [
        {
          "output_type": "execute_result",
          "data": {
            "text/plain": [
              "7528"
            ]
          },
          "metadata": {},
          "execution_count": 47
        }
      ]
    },
    {
      "cell_type": "code",
      "source": [
        "label_encoder = LabelEncoder()\n",
        "encoded_labels = label_encoder.fit_transform(labels_dataset_preprocessed)"
      ],
      "metadata": {
        "id": "70m-3jR_Tm6x"
      },
      "execution_count": 48,
      "outputs": []
    },
    {
      "cell_type": "markdown",
      "source": [
        "Создаем объект модели полиномиальной логистической регрессии, задаем параметры объекта"
      ],
      "metadata": {
        "id": "ndZ3qPjomNtM"
      }
    },
    {
      "cell_type": "code",
      "source": [
        "model_logistic_regression = LogisticRegression(multi_class=\"multinomial\", max_iter=1000)"
      ],
      "metadata": {
        "id": "ZLukhrTNmQRW"
      },
      "execution_count": 49,
      "outputs": []
    },
    {
      "cell_type": "markdown",
      "source": [
        "Делим наши данные на обучающую и тестовую выборки в соотношении 80/20"
      ],
      "metadata": {
        "id": "oLKfMTPBlDlX"
      }
    },
    {
      "cell_type": "code",
      "source": [
        "X_train, X_test, y_train, y_test = train_test_split(embeddings_dataset, encoded_labels, test_size=0.2)"
      ],
      "metadata": {
        "id": "I1hrIJM_lIt8"
      },
      "execution_count": 50,
      "outputs": []
    },
    {
      "cell_type": "markdown",
      "source": [
        "Обучаем модель на векторизованном датасете sagteam/cedr_v1"
      ],
      "metadata": {
        "id": "EWTHYYCCmp31"
      }
    },
    {
      "cell_type": "code",
      "source": [
        "model_logistic_regression.fit(X_train, y_train)"
      ],
      "metadata": {
        "id": "iizjg2Y0msyc"
      },
      "execution_count": null,
      "outputs": []
    },
    {
      "cell_type": "markdown",
      "source": [
        "Выводим метрики оценки качества модели"
      ],
      "metadata": {
        "id": "kIqYZWSarY8R"
      }
    },
    {
      "cell_type": "code",
      "source": [
        "y_pred = model_logistic_regression.predict(X_test)\n",
        "classification_report_model = classification_report(y_test, y_pred)\n",
        "print(classification_report_model)"
      ],
      "metadata": {
        "id": "kYTA1bopmzSN",
        "colab": {
          "base_uri": "https://localhost:8080/"
        },
        "outputId": "58c33046-0aa5-4ebb-d575-09a82a7dffc1"
      },
      "execution_count": 71,
      "outputs": [
        {
          "output_type": "stream",
          "name": "stdout",
          "text": [
            "              precision    recall  f1-score   support\n",
            "\n",
            "           0       0.77      0.79      0.78       316\n",
            "           1       0.72      0.77      0.75       274\n",
            "           2       0.71      0.43      0.53       117\n",
            "           3       0.75      0.43      0.55       116\n",
            "           4       0.41      0.08      0.14        85\n",
            "           5       0.76      0.93      0.83       598\n",
            "\n",
            "    accuracy                           0.75      1506\n",
            "   macro avg       0.69      0.57      0.60      1506\n",
            "weighted avg       0.73      0.75      0.72      1506\n",
            "\n"
          ]
        }
      ]
    },
    {
      "cell_type": "markdown",
      "source": [
        "Векторизуем учебный датасет с помощью модели cointegrated/rubert-tiny2"
      ],
      "metadata": {
        "id": "lX0OUAFxebqA"
      }
    },
    {
      "cell_type": "code",
      "source": [
        "embeddings_our_data = model_encoder.encode(texts_preprocessed)\n",
        "embeddings_our_data"
      ],
      "metadata": {
        "colab": {
          "base_uri": "https://localhost:8080/"
        },
        "id": "tPgHEELqUN-r",
        "outputId": "fb8713cb-d0df-47e0-ccfb-0c62676d551a"
      },
      "execution_count": 53,
      "outputs": [
        {
          "output_type": "execute_result",
          "data": {
            "text/plain": [
              "array([[ 0.06460818,  0.0111983 , -0.02380995, ...,  0.01451224,\n",
              "        -0.06510374, -0.01211629],\n",
              "       [ 0.11223956, -0.05235656, -0.01216037, ..., -0.06581941,\n",
              "         0.0040033 , -0.01813723],\n",
              "       [ 0.06845327, -0.00637502,  0.04340768, ..., -0.05609595,\n",
              "        -0.01077004,  0.01765477],\n",
              "       ...,\n",
              "       [ 0.0344652 , -0.02160484,  0.01224226, ..., -0.04047382,\n",
              "        -0.01503005, -0.00184585],\n",
              "       [ 0.07855648, -0.00100238,  0.02630873, ..., -0.04049843,\n",
              "        -0.04914269,  0.03086689],\n",
              "       [ 0.08313233, -0.00950053,  0.07455792, ..., -0.03658319,\n",
              "        -0.03234991, -0.01652064]], dtype=float32)"
            ]
          },
          "metadata": {},
          "execution_count": 53
        }
      ]
    },
    {
      "cell_type": "markdown",
      "source": [
        "Определяем эмоции с помощью полиномиальной логистической регрессии на учебном датасете"
      ],
      "metadata": {
        "id": "I4spsDXGej8c"
      }
    },
    {
      "cell_type": "code",
      "source": [
        "y_pred_lg = model_logistic_regression.predict(embeddings_our_data)"
      ],
      "metadata": {
        "id": "4r0rmpaFUgwB"
      },
      "execution_count": 72,
      "outputs": []
    },
    {
      "cell_type": "markdown",
      "source": [
        "Преобразуем категориальные метки в числовые значения в соответствии с разметкой датасета sagteam/cedr_v1. Эмоции, которые встречаются в данном датасете, но их нет среди учебного датасета, а именно: surprise, а также неразмеченные данные (без меток), обозначались как 5"
      ],
      "metadata": {
        "id": "1uQiNoX9esFa"
      }
    },
    {
      "cell_type": "code",
      "source": [
        "labels_numbers = []\n",
        "for label in labels:\n",
        "  if label == \"ANGER\":\n",
        "    labels_numbers.append(4)\n",
        "  elif label == \"FEAR\":\n",
        "    labels_numbers.append(3)\n",
        "  elif label == \"EXCITEMENT\":\n",
        "    labels_numbers.append(5)\n",
        "  elif label == \"DISTRESS\":\n",
        "    labels_numbers.append(1)\n",
        "  elif label == \"ENJOYMENT\":\n",
        "    labels_numbers.append(0)\n",
        "  else:\n",
        "    labels_numbers.append(5)\n",
        "labels_numbers = np.array(labels_numbers)"
      ],
      "metadata": {
        "collapsed": true,
        "id": "UOynzUJxVmc8"
      },
      "execution_count": 81,
      "outputs": []
    },
    {
      "cell_type": "markdown",
      "source": [
        "Оценим качество логистической регресии для классификации эмоций на учебном датасете"
      ],
      "metadata": {
        "id": "hMPLA7pKfHrS"
      }
    },
    {
      "cell_type": "code",
      "source": [
        "report_our_data = classification_report(labels_numbers, y_pred_lg)\n",
        "print(report_our_data)"
      ],
      "metadata": {
        "colab": {
          "base_uri": "https://localhost:8080/"
        },
        "id": "HenfJWUXUniA",
        "outputId": "f24b7f48-82b1-4c9f-a267-28072934bed1"
      },
      "execution_count": 82,
      "outputs": [
        {
          "output_type": "stream",
          "name": "stdout",
          "text": [
            "              precision    recall  f1-score   support\n",
            "\n",
            "           0       0.35      0.19      0.25        37\n",
            "           1       0.22      0.05      0.09        38\n",
            "           3       0.60      0.08      0.14        37\n",
            "           4       1.00      0.03      0.05        38\n",
            "           5       0.45      0.91      0.60       112\n",
            "\n",
            "    accuracy                           0.44       262\n",
            "   macro avg       0.52      0.25      0.23       262\n",
            "weighted avg       0.50      0.44      0.33       262\n",
            "\n"
          ]
        }
      ]
    },
    {
      "cell_type": "markdown",
      "source": [
        "В ходе использования предобученной модели CEDR на наших данных, лучше всего определяются следующие эмоции: ENJOYMENT (f1-score = 0.32), ANGER (f1-score = 0.17), DISTRESS (f1-score = 0.12)\n",
        "\n",
        "В ходе использования предобученной модели SEARA на наших данных, лучше всего определяются следующие эмоции:\n",
        "ENJOYMENT (f1-score = 0.29), ANGER (f1-score = 0.15), DISTRESS (f1-score = 0.13).\n",
        "\n",
        "В ходе использования собственно обученного алгоритма полиномиальной логистической регрессии на датасете sagteam/cedr_v1, лучше всего определяются следующие эмоции: ENJOYMENT (f1-score = 0.25), FEAR (f1-score = 0.14).\n",
        "\n",
        "Вывод: алгоритм логистической регрессии лучше определяет эмоцию FEAR (f1-score = 0.14, против 0.09 у модели SEARA и 0.05 у модели CEDR), а также имеет достаточно высокий показатель по эмоции ENJOYMENT, однако немного уступает по нему моделям CEDR и SEARA"
      ],
      "metadata": {
        "id": "G9iXZnvjZfqg"
      }
    }
  ],
  "metadata": {
    "colab": {
      "provenance": [],
      "authorship_tag": "ABX9TyPjHh/rM7fHvSzxxrKEP754",
      "include_colab_link": true
    },
    "kernelspec": {
      "display_name": "Python 3",
      "name": "python3"
    },
    "language_info": {
      "name": "python"
    }
  },
  "nbformat": 4,
  "nbformat_minor": 0
}